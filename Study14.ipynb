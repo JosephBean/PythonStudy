{
 "cells": [
  {
   "cell_type": "code",
   "execution_count": 2,
   "metadata": {},
   "outputs": [],
   "source": [
    "from bs4 import BeautifulSoup"
   ]
  },
  {
   "cell_type": "code",
   "execution_count": 9,
   "metadata": {},
   "outputs": [
    {
     "data": {
      "text/plain": [
       "'\\n<!DOCTYPE html>\\n<html>\\n    <head>\\n        <meta charset=\"utf-8\">\\n    </head>\\n    <body>\\n        <h1>안녕하세요.</h1>\\n        <h2>안녕하세요.</h2>\\n        <h3>안녕하세요.</h3>\\n        <h4>안녕하세요.</h4>\\n        <h5>안녕하세요.</h5>\\n        <h6>안녕하세요.</h6>\\n    </body>\\n</html>\\n'"
      ]
     },
     "execution_count": 9,
     "metadata": {},
     "output_type": "execute_result"
    }
   ],
   "source": [
    "html = '''\n",
    "<!DOCTYPE html>\n",
    "<html>\n",
    "    <head>\n",
    "        <meta charset=\"utf-8\">\n",
    "    </head>\n",
    "    <body>\n",
    "        <h1>안녕하세요.</h1>\n",
    "        <h2>안녕하세요.</h2>\n",
    "        <h3>안녕하세요.</h3>\n",
    "        <h4>안녕하세요.</h4>\n",
    "        <h5>안녕하세요.</h5>\n",
    "        <h6>안녕하세요.</h6>\n",
    "    </body>\n",
    "</html>\n",
    "'''\n",
    "html"
   ]
  },
  {
   "cell_type": "code",
   "execution_count": 10,
   "metadata": {},
   "outputs": [
    {
     "data": {
      "text/plain": [
       "\n",
       "<!DOCTYPE html>\n",
       "\n",
       "<html>\n",
       "<head>\n",
       "<meta charset=\"utf-8\"/>\n",
       "</head>\n",
       "<body>\n",
       "<h1>안녕하세요.</h1>\n",
       "<h2>안녕하세요.</h2>\n",
       "<h3>안녕하세요.</h3>\n",
       "<h4>안녕하세요.</h4>\n",
       "<h5>안녕하세요.</h5>\n",
       "<h6>안녕하세요.</h6>\n",
       "</body>\n",
       "</html>"
      ]
     },
     "execution_count": 10,
     "metadata": {},
     "output_type": "execute_result"
    }
   ],
   "source": [
    "data = BeautifulSoup(html, 'html.parser')\n",
    "data"
   ]
  },
  {
   "cell_type": "code",
   "execution_count": 13,
   "metadata": {},
   "outputs": [
    {
     "data": {
      "text/plain": [
       "'안녕하세요.'"
      ]
     },
     "execution_count": 13,
     "metadata": {},
     "output_type": "execute_result"
    }
   ],
   "source": [
    "data.find(\"h3\").text"
   ]
  }
 ],
 "metadata": {
  "kernelspec": {
   "display_name": "Python 3",
   "language": "python",
   "name": "python3"
  },
  "language_info": {
   "codemirror_mode": {
    "name": "ipython",
    "version": 3
   },
   "file_extension": ".py",
   "mimetype": "text/x-python",
   "name": "python",
   "nbconvert_exporter": "python",
   "pygments_lexer": "ipython3",
   "version": "3.11.9"
  }
 },
 "nbformat": 4,
 "nbformat_minor": 2
}
