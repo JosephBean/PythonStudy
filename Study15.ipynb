{
 "cells": [
  {
   "cell_type": "code",
   "execution_count": 13,
   "metadata": {},
   "outputs": [],
   "source": [
    "from requests import get\n",
    "from bs4 import BeautifulSoup as bs\n",
    "import pandas as pd"
   ]
  },
  {
   "cell_type": "code",
   "execution_count": null,
   "metadata": {},
   "outputs": [
    {
     "data": {
      "text/plain": [
       "(506, 5)"
      ]
     },
     "execution_count": 10,
     "metadata": {},
     "output_type": "execute_result"
    }
   ],
   "source": [
    "# df = pd.read_csv(\"./data/data1.csv\", encoding=\"utf-8\", index_col=\"관리번호\").drop(\"연번\", axis=1)\n",
    "# df.shape"
   ]
  },
  {
   "cell_type": "code",
   "execution_count": null,
   "metadata": {},
   "outputs": [
    {
     "name": "stdout",
     "output_type": "stream",
     "text": [
      "['In this example, we have created a header, three equal columns and a footer. On smaller screens, the columns will stack on top of each other.', 'Resize the browser window to see the responsive effect.', 'Note: The Grid Layout Module is not supported in Internet Explorer or Edge 15 eand earlier versions.', 'Footer']\n"
     ]
    }
   ],
   "source": [
    "# res = get(\"http://127.0.0.1:5500/html/page3.html\")\n",
    "# list = []\n",
    "# if res.status_code == 200:\n",
    "#     data = bs(res.text, \"html.parser\")\n",
    "#     # print(data.p)\n",
    "#     # print(data.find(\"p\"))\n",
    "#     # print(data.find_all(\"p\"))\n",
    "#     # print(data.select_one(\"p\"))\n",
    "#     # print(data.select(\"p\"))\n",
    "#     # print(data.select(\"p\")[2])\n",
    "#     # print(data.select(\"p\")[2].text)\n",
    "#     for r in data.select(\"p\"):\n",
    "#         # print(r.text)\n",
    "#         list.append(r.text)\n",
    "# print(list)"
   ]
  },
  {
   "cell_type": "code",
   "execution_count": null,
   "metadata": {},
   "outputs": [
    {
     "name": "stdout",
     "output_type": "stream",
     "text": [
      "['In this example, we have created a header, three equal columns and a footer. On smaller screens, the columns will stack on top of each other.', 'Resize the browser window to see the responsive effect.', 'Note: The Grid Layout Module is not supported in Internet Explorer or Edge 15 eand earlier versions.', 'Footer']\n"
     ]
    }
   ],
   "source": [
    "res = get(\"http://127.0.0.1:5500/html/page3.html\")\n",
    "list = []\n",
    "if res.status_code == 200:\n",
    "    data = bs(res.text, \"html.parser\")\n",
    "    for r in data.select(\"p\"):\n",
    "        list.append(r.text)\n",
    "print(list)"
   ]
  },
  {
   "cell_type": "code",
   "execution_count": 34,
   "metadata": {},
   "outputs": [],
   "source": [
    "def 데이터가져오기(url, callback):\n",
    "    res = get(url)\n",
    "    if res.status_code == 200:\n",
    "        return callback(bs(res.text, \"html.parser\"))\n",
    "    return \"\""
   ]
  },
  {
   "cell_type": "code",
   "execution_count": 30,
   "metadata": {},
   "outputs": [],
   "source": [
    "def 데이터추출(data):\n",
    "    list = []\n",
    "    for r in data.select(\"p\"):\n",
    "        list.append(r.text)\n",
    "    return list"
   ]
  },
  {
   "cell_type": "code",
   "execution_count": 36,
   "metadata": {},
   "outputs": [
    {
     "name": "stdout",
     "output_type": "stream",
     "text": [
      "['In this example, we have created a header, three equal columns and a footer. On smaller screens, the columns will stack on top of each other.', 'Resize the browser window to see the responsive effect.', 'Note: The Grid Layout Module is not supported in Internet Explorer or Edge 15 eand earlier versions.', 'Footer']\n"
     ]
    }
   ],
   "source": [
    "url = \"http://127.0.0.1:5500/html/page3.html\"\n",
    "# data = 데이터가져오기(url)\n",
    "# list = 데이터추출(data)\n",
    "# list = 데이터추출(데이터가져오기(url))\n",
    "list = 데이터가져오기(url, 데이터추출)\n",
    "print(list)"
   ]
  }
 ],
 "metadata": {
  "kernelspec": {
   "display_name": "Python 3",
   "language": "python",
   "name": "python3"
  },
  "language_info": {
   "codemirror_mode": {
    "name": "ipython",
    "version": 3
   },
   "file_extension": ".py",
   "mimetype": "text/x-python",
   "name": "python",
   "nbconvert_exporter": "python",
   "pygments_lexer": "ipython3",
   "version": "3.11.9"
  }
 },
 "nbformat": 4,
 "nbformat_minor": 2
}
