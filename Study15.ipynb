{
 "cells": [
  {
   "cell_type": "code",
   "execution_count": 5,
   "metadata": {},
   "outputs": [],
   "source": [
    "from requests import get\n",
    "from bs4 import BeautifulSoup as bs\n",
    "import pandas as pd"
   ]
  },
  {
   "cell_type": "code",
   "execution_count": null,
   "metadata": {},
   "outputs": [
    {
     "data": {
      "text/plain": [
       "(506, 5)"
      ]
     },
     "execution_count": 10,
     "metadata": {},
     "output_type": "execute_result"
    }
   ],
   "source": [
    "# df = pd.read_csv(\"./data/data1.csv\", encoding=\"utf-8\", index_col=\"관리번호\").drop(\"연번\", axis=1)\n",
    "# df.shape"
   ]
  },
  {
   "cell_type": "code",
   "execution_count": null,
   "metadata": {},
   "outputs": [
    {
     "name": "stdout",
     "output_type": "stream",
     "text": [
      "['In this example, we have created a header, three equal columns and a footer. On smaller screens, the columns will stack on top of each other.', 'Resize the browser window to see the responsive effect.', 'Note: The Grid Layout Module is not supported in Internet Explorer or Edge 15 eand earlier versions.', 'Footer']\n"
     ]
    }
   ],
   "source": [
    "# res = get(\"http://127.0.0.1:5500/html/page3.html\")\n",
    "# list = []\n",
    "# if res.status_code == 200:\n",
    "#     data = bs(res.text, \"html.parser\")\n",
    "#     # print(data.p)\n",
    "#     # print(data.find(\"p\"))\n",
    "#     # print(data.find_all(\"p\"))\n",
    "#     # print(data.select_one(\"p\"))\n",
    "#     # print(data.select(\"p\"))\n",
    "#     # print(data.select(\"p\")[2])\n",
    "#     # print(data.select(\"p\")[2].text)\n",
    "#     for r in data.select(\"p\"):\n",
    "#         # print(r.text)\n",
    "#         list.append(r.text)\n",
    "# print(list)"
   ]
  },
  {
   "cell_type": "code",
   "execution_count": null,
   "metadata": {},
   "outputs": [
    {
     "name": "stdout",
     "output_type": "stream",
     "text": [
      "['In this example, we have created a header, three equal columns and a footer. On smaller screens, the columns will stack on top of each other.', 'Resize the browser window to see the responsive effect.', 'Note: The Grid Layout Module is not supported in Internet Explorer or Edge 15 eand earlier versions.', 'Footer']\n"
     ]
    }
   ],
   "source": [
    "res = get(\"http://127.0.0.1:5500/html/page3.html\")\n",
    "list = []\n",
    "if res.status_code == 200:\n",
    "    data = bs(res.text, \"html.parser\")\n",
    "    for r in data.select(\"p\"):\n",
    "        list.append(r.text)\n",
    "print(list)"
   ]
  },
  {
   "cell_type": "code",
   "execution_count": 2,
   "metadata": {},
   "outputs": [],
   "source": [
    "def 데이터가져오기(url, callback):\n",
    "    res = get(url)\n",
    "    if res.status_code == 200:\n",
    "        return callback(bs(res.text, \"html.parser\"))\n",
    "    return \"\""
   ]
  },
  {
   "cell_type": "code",
   "execution_count": 30,
   "metadata": {},
   "outputs": [],
   "source": [
    "def 데이터추출(data):\n",
    "    list = []\n",
    "    for r in data.select(\"p\"):\n",
    "        list.append(r.text)\n",
    "    return list"
   ]
  },
  {
   "cell_type": "code",
   "execution_count": 36,
   "metadata": {},
   "outputs": [
    {
     "name": "stdout",
     "output_type": "stream",
     "text": [
      "['In this example, we have created a header, three equal columns and a footer. On smaller screens, the columns will stack on top of each other.', 'Resize the browser window to see the responsive effect.', 'Note: The Grid Layout Module is not supported in Internet Explorer or Edge 15 eand earlier versions.', 'Footer']\n"
     ]
    }
   ],
   "source": [
    "url = \"http://127.0.0.1:5500/html/page3.html\"\n",
    "# data = 데이터가져오기(url)\n",
    "# list = 데이터추출(data)\n",
    "# list = 데이터추출(데이터가져오기(url))\n",
    "list = 데이터가져오기(url, 데이터추출)\n",
    "print(list)"
   ]
  },
  {
   "cell_type": "code",
   "execution_count": 15,
   "metadata": {},
   "outputs": [
    {
     "name": "stdout",
     "output_type": "stream",
     "text": [
      "Column2 1\n"
     ]
    }
   ],
   "source": [
    "url = \"http://127.0.0.1:5500/html/page3.html\"\n",
    "def 데이터추출2(data):\n",
    "    # list = data.select(\"div.grid-container > div.middle\")\n",
    "    # list = data.select(\"div.middle\")\n",
    "    # list = data.select(\".middle\")\n",
    "    list = data.select(\"[style*=bbb]\")\n",
    "    print(list[0].text, len(list))\n",
    "\n",
    "데이터가져오기(url, 데이터추출2)"
   ]
  },
  {
   "cell_type": "code",
   "execution_count": 51,
   "metadata": {},
   "outputs": [
    {
     "data": {
      "text/html": [
       "<div>\n",
       "<style scoped>\n",
       "    .dataframe tbody tr th:only-of-type {\n",
       "        vertical-align: middle;\n",
       "    }\n",
       "\n",
       "    .dataframe tbody tr th {\n",
       "        vertical-align: top;\n",
       "    }\n",
       "\n",
       "    .dataframe thead th {\n",
       "        text-align: right;\n",
       "    }\n",
       "</style>\n",
       "<table border=\"1\" class=\"dataframe\">\n",
       "  <thead>\n",
       "    <tr style=\"text-align: right;\">\n",
       "      <th></th>\n",
       "      <th>0</th>\n",
       "      <th>1</th>\n",
       "    </tr>\n",
       "  </thead>\n",
       "  <tbody>\n",
       "    <tr>\n",
       "      <th>1.삼성전자</th>\n",
       "      <td>53900</td>\n",
       "      <td>800</td>\n",
       "    </tr>\n",
       "    <tr>\n",
       "      <th>2.SK하이닉스</th>\n",
       "      <td>175000</td>\n",
       "      <td>7000</td>\n",
       "    </tr>\n",
       "    <tr>\n",
       "      <th>3.카카오</th>\n",
       "      <td>44050</td>\n",
       "      <td>2550</td>\n",
       "    </tr>\n",
       "    <tr>\n",
       "      <th>4.KB금융</th>\n",
       "      <td>86900</td>\n",
       "      <td>8500</td>\n",
       "    </tr>\n",
       "    <tr>\n",
       "      <th>5.고려아연</th>\n",
       "      <td>1813000</td>\n",
       "      <td>142000</td>\n",
       "    </tr>\n",
       "  </tbody>\n",
       "</table>\n",
       "</div>"
      ],
      "text/plain": [
       "                0       1\n",
       "1.삼성전자      53900     800\n",
       "2.SK하이닉스   175000    7000\n",
       "3.카카오       44050    2550\n",
       "4.KB금융      86900    8500\n",
       "5.고려아연    1813000  142000"
      ]
     },
     "execution_count": 51,
     "metadata": {},
     "output_type": "execute_result"
    }
   ],
   "source": [
    "html = '''\n",
    "<table class=\"tbl_home\">\n",
    "    <caption>인기 검색 종목표<span>종목명에 대한 현재가,전일대비로 구분되어 있습니다.</span></caption>\n",
    "    <colgroup>\n",
    "    <col>\n",
    "    <col width=\"60\">\n",
    "    <col width=\"65\">\n",
    "    </colgroup>\n",
    "    <thead>\n",
    "    <tr>\n",
    "    <th scope=\"col\">구분</th>\n",
    "    <th scope=\"col\">현재가</th>\n",
    "    <th scope=\"col\">전일대비</th>\n",
    "    </tr>\n",
    "    </thead>\n",
    "    <tbody>\n",
    "\n",
    "    <tr class=\"up\"><th scope=\"row\"><em>1.</em><a href=\"/item/main.naver?code=005930\" onclick=\"clickcr(this, &quot;boa.list&quot;, &quot;005930&quot;, &quot;1&quot;, event);\">삼성전자</a></th><td>53,900</td><td><em class=\"bu_p bu_pup\"><span class=\"blind\">상승</span></em><span class=\"tah p11 red02\"> 800 </span></td></tr>\n",
    "\n",
    "    <tr class=\"up\"><th scope=\"row\"><em>2.</em><a href=\"/item/main.naver?code=000660\" onclick=\"clickcr(this, &quot;boa.list&quot;, &quot;000660&quot;, &quot;2&quot;, event);\">SK하이닉스</a></th><td>175,000</td><td><em class=\"bu_p bu_pup\"><span class=\"blind\">상승</span></em><span class=\"tah p11 red02\"> 7,000 </span></td></tr>\n",
    "\n",
    "    <tr class=\"down\"><th scope=\"row\"><em>3.</em><a href=\"/item/main.naver?code=035720\" onclick=\"clickcr(this, &quot;boa.list&quot;, &quot;035720&quot;, &quot;3&quot;, event);\">카카오</a></th><td>44,050</td><td><em class=\"bu_p bu_pdn\"><span class=\"blind\">하락</span></em><span class=\"tah p11 nv01\"> 2,550 </span></td></tr>\n",
    "\n",
    "    <tr class=\"down\"><th scope=\"row\"><em>4.</em><a href=\"/item/main.naver?code=105560\" onclick=\"clickcr(this, &quot;boa.list&quot;, &quot;105560&quot;, &quot;4&quot;, event);\">KB금융</a></th><td>86,900</td><td><em class=\"bu_p bu_pdn\"><span class=\"blind\">하락</span></em><span class=\"tah p11 nv01\"> 8,500 </span></td></tr>\n",
    "\n",
    "    <tr class=\"up\"><th scope=\"row\"><em>5.</em><a href=\"/item/main.naver?code=010130\" onclick=\"clickcr(this, &quot;boa.list&quot;, &quot;010130&quot;, &quot;5&quot;, event);\">고려아연</a></th><td>1,813,000</td><td><em class=\"bu_p bu_pup\"><span class=\"blind\">상승</span></em><span class=\"tah p11 red02\"> 142,000 </span></td></tr>\n",
    "\n",
    "    </tbody>\n",
    "</table>\n",
    "'''\n",
    "# print(html)\n",
    "\n",
    "def 컴마삭제(data):\n",
    "    return int(data.replace(\",\",\"\"))\n",
    "# print(컴마삭제(\"1,200\"))\n",
    "\n",
    "data = bs(html, 'html.parser')\n",
    "trs = data.select(\"table.tbl_home > tbody > tr\")\n",
    "arr = []\n",
    "idx = []\n",
    "for tr in trs:\n",
    "    idx.append(tr.select_one(\"th\").text)\n",
    "\n",
    "    arr1 = []\n",
    "    for td in tr.select(\"td\"):\n",
    "        if td.text.count(\" \") > 0:\n",
    "            arr1.append( 컴마삭제(td.text[td.text.index(\" \"):].strip()) )\n",
    "        else :\n",
    "            arr1.append( 컴마삭제(td.text) )\n",
    "    arr.append(arr1)\n",
    "# print(idx)\n",
    "# print(arr)\n",
    "pd.DataFrame(arr, index=idx)"
   ]
  },
  {
   "cell_type": "code",
   "execution_count": 71,
   "metadata": {},
   "outputs": [
    {
     "data": {
      "text/html": [
       "<div>\n",
       "<style scoped>\n",
       "    .dataframe tbody tr th:only-of-type {\n",
       "        vertical-align: middle;\n",
       "    }\n",
       "\n",
       "    .dataframe tbody tr th {\n",
       "        vertical-align: top;\n",
       "    }\n",
       "\n",
       "    .dataframe thead th {\n",
       "        text-align: right;\n",
       "    }\n",
       "</style>\n",
       "<table border=\"1\" class=\"dataframe\">\n",
       "  <thead>\n",
       "    <tr style=\"text-align: right;\">\n",
       "      <th></th>\n",
       "      <th>0</th>\n",
       "      <th>1</th>\n",
       "    </tr>\n",
       "  </thead>\n",
       "  <tbody>\n",
       "    <tr>\n",
       "      <th>1.삼성전자</th>\n",
       "      <td>54000</td>\n",
       "      <td>900</td>\n",
       "    </tr>\n",
       "    <tr>\n",
       "      <th>2.고려아연</th>\n",
       "      <td>1826000</td>\n",
       "      <td>155000</td>\n",
       "    </tr>\n",
       "    <tr>\n",
       "      <th>3.SK하이닉스</th>\n",
       "      <td>174200</td>\n",
       "      <td>6200</td>\n",
       "    </tr>\n",
       "    <tr>\n",
       "      <th>4.KB금융</th>\n",
       "      <td>87100</td>\n",
       "      <td>8300</td>\n",
       "    </tr>\n",
       "    <tr>\n",
       "      <th>5.카카오</th>\n",
       "      <td>44550</td>\n",
       "      <td>2050</td>\n",
       "    </tr>\n",
       "  </tbody>\n",
       "</table>\n",
       "</div>"
      ],
      "text/plain": [
       "                0       1\n",
       "1.삼성전자      54000     900\n",
       "2.고려아연    1826000  155000\n",
       "3.SK하이닉스   174200    6200\n",
       "4.KB금융      87100    8300\n",
       "5.카카오       44550    2050"
      ]
     },
     "execution_count": 71,
     "metadata": {},
     "output_type": "execute_result"
    }
   ],
   "source": [
    "res = get(\"https://finance.naver.com/\")\n",
    "def 컴마삭제(data):\n",
    "    return int(data.replace(\",\",\"\"))\n",
    "\n",
    "data = bs(res.text, 'html.parser')\n",
    "trs = data.select(\"div.aside_area.aside_popular > table.tbl_home > tbody > tr\")\n",
    "# print(trs)\n",
    "arr = []\n",
    "idx = []\n",
    "for tr in trs:\n",
    "    idx.append(tr.select_one(\"th\").text)\n",
    "\n",
    "    arr1 = []\n",
    "    for td in tr.select(\"td\"):\n",
    "        arr1.append( 컴마삭제(td.text.replace(\"\\n\",\"\").replace(\"\\t\",\"\").replace(\"상승\",\"\").replace(\"하락\",\"\")) )\n",
    "    arr.append(arr1)\n",
    "# print(idx)\n",
    "# print(arr)\n",
    "pd.DataFrame(arr, index=idx)"
   ]
  }
 ],
 "metadata": {
  "kernelspec": {
   "display_name": "Python 3",
   "language": "python",
   "name": "python3"
  },
  "language_info": {
   "codemirror_mode": {
    "name": "ipython",
    "version": 3
   },
   "file_extension": ".py",
   "mimetype": "text/x-python",
   "name": "python",
   "nbconvert_exporter": "python",
   "pygments_lexer": "ipython3",
   "version": "3.11.9"
  }
 },
 "nbformat": 4,
 "nbformat_minor": 2
}
