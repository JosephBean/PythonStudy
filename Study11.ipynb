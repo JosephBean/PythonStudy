{
 "cells": [
  {
   "cell_type": "code",
   "execution_count": 1,
   "metadata": {},
   "outputs": [
    {
     "data": {
      "text/plain": [
       "<_io.TextIOWrapper name='1.txt' mode='w' encoding='cp949'>"
      ]
     },
     "execution_count": 1,
     "metadata": {},
     "output_type": "execute_result"
    }
   ],
   "source": [
    "open(\"1.txt\", \"w\")"
   ]
  },
  {
   "cell_type": "code",
   "execution_count": 12,
   "metadata": {},
   "outputs": [
    {
     "name": "stdout",
     "output_type": "stream",
     "text": [
      "True\n",
      "True\n",
      "False\n"
     ]
    }
   ],
   "source": [
    "a = open(\"1.txt\", encoding=\"UTF-8\")\n",
    "print(a.readline() != \"\")\n",
    "print(a.readline() != \"\")\n",
    "print(a.readline() != \"\")"
   ]
  },
  {
   "cell_type": "code",
   "execution_count": 18,
   "metadata": {},
   "outputs": [
    {
     "name": "stdout",
     "output_type": "stream",
     "text": [
      "가나다라\n",
      "\n",
      "ABCDE\n"
     ]
    }
   ],
   "source": [
    "a = open(\"1.txt\", encoding=\"UTF-8\")\n",
    "while 1:\n",
    "    txt = a.readline()\n",
    "    if txt == \"\": break\n",
    "    print(txt)\n",
    "a.close()"
   ]
  },
  {
   "cell_type": "code",
   "execution_count": null,
   "metadata": {},
   "outputs": [],
   "source": [
    "b = open(\"1.txt\", mode=\"a\", encoding=\"UTF-8\")\n",
    "b.write(\"\\n글 추가\")\n",
    "b.close()\n",
    "# w : 기존 내용 삭제 후 다시 내용 채우기\n",
    "# a : 기존 내용 뒤로 추가 (단, 행을 변경해서 추가 할 경우는 특수기호 넣기)"
   ]
  },
  {
   "cell_type": "code",
   "execution_count": 22,
   "metadata": {},
   "outputs": [],
   "source": [
    "b = open(\"1.txt\", mode=\"a\", encoding=\"UTF-8\")\n",
    "txt = input(\"글 추가하세요\")\n",
    "b.write(f\"\\n{txt}\")\n",
    "b.close()"
   ]
  },
  {
   "cell_type": "code",
   "execution_count": 28,
   "metadata": {},
   "outputs": [],
   "source": [
    "def 글길이구하기(파일):\n",
    "    글 = open(파일, encoding=\"utf-8\")\n",
    "    cnt = 0\n",
    "    while 1:\n",
    "        if 글.readline() == \"\":\n",
    "            break\n",
    "        else:\n",
    "            cnt += 1\n",
    "    글.close()\n",
    "    return cnt\n",
    "def 메모장():\n",
    "    파일 = \"2.txt\"\n",
    "    cnt = 글길이구하기(파일)\n",
    "    메모 = open(파일, mode=\"a\", encoding=\"utf-8\")\n",
    "    while 1:\n",
    "        txt = input(\"글 내용 추가\")\n",
    "        if txt == \"\":\n",
    "            break\n",
    "        if cnt == 0:\n",
    "            메모.write(f\"{txt}\")\n",
    "            cnt += 1\n",
    "        else:\n",
    "            메모.write(f\"\\n{txt}\")\n",
    "    메모.close()\n",
    "\n",
    "메모장()"
   ]
  },
  {
   "cell_type": "code",
   "execution_count": 1,
   "metadata": {},
   "outputs": [
    {
     "data": {
      "text/plain": [
       "['가나다라\\n', 'ABCDE\\n', '글 추가\\n', '오늘 날씨가 맑아서 기분이 좋아요']"
      ]
     },
     "execution_count": 1,
     "metadata": {},
     "output_type": "execute_result"
    }
   ],
   "source": [
    "b = open(\"1.txt\", mode=\"r\", encoding=\"UTF-8\")\n",
    "b.readlines()"
   ]
  },
  {
   "cell_type": "code",
   "execution_count": null,
   "metadata": {},
   "outputs": [
    {
     "data": {
      "text/plain": [
       "['가나다라', 'ABCDE', '글 추가', '오늘 날씨가 맑아서 기분이 좋아요']"
      ]
     },
     "execution_count": 12,
     "metadata": {},
     "output_type": "execute_result"
    }
   ],
   "source": [
    "b = open(\"1.txt\", mode=\"r\", encoding=\"UTF-8\")\n",
    "c = b.readlines()\n",
    "for i in range(len(c)):\n",
    "    c[i] = c[i].replace(\"\\n\", \"\") \n",
    "    #c[i] = c[i].strip()\n",
    "c"
   ]
  },
  {
   "cell_type": "code",
   "execution_count": 18,
   "metadata": {},
   "outputs": [
    {
     "data": {
      "text/plain": [
       "'가나다라 ABCDE 글 추가 오늘 날씨가 맑아서 기분이 좋아요'"
      ]
     },
     "execution_count": 18,
     "metadata": {},
     "output_type": "execute_result"
    }
   ],
   "source": [
    "b = open(\"1.txt\", mode=\"r\", encoding=\"UTF-8\")\n",
    "# c = b.read()\n",
    "# c.strip()\n",
    "b.read().replace(\"\\n\", \" \")"
   ]
  },
  {
   "cell_type": "code",
   "execution_count": 25,
   "metadata": {},
   "outputs": [],
   "source": [
    "b = open(\"3.csv\", mode=\"w\", encoding=\"utf-8\")\n",
    "for i in range(1, 10):\n",
    "    for j in range(1, 10):\n",
    "        b.write(f\"{i},{j},{i*j}\\n\")\n",
    "b.close()"
   ]
  },
  {
   "cell_type": "code",
   "execution_count": 34,
   "metadata": {},
   "outputs": [
    {
     "name": "stdout",
     "output_type": "stream",
     "text": [
      "2 * 9 = 18\n",
      "2 * 8 = 16\n",
      "2 * 7 = 14\n",
      "2 * 6 = 12\n",
      "2 * 5 = 10\n",
      "2 * 4 = 8\n",
      "2 * 3 = 6\n",
      "2 * 2 = 4\n",
      "2 * 1 = 2\n",
      "4 * 9 = 36\n",
      "4 * 8 = 32\n",
      "4 * 7 = 28\n",
      "4 * 6 = 24\n",
      "4 * 5 = 20\n",
      "4 * 4 = 16\n",
      "4 * 3 = 12\n",
      "4 * 2 = 8\n",
      "4 * 1 = 4\n"
     ]
    }
   ],
   "source": [
    "b = open(\"q.csv\")\n",
    "c = b.readlines()\n",
    "for i in range(len(c)):\n",
    "    c[i] = c[i].replace(\"\\n\", \"\").split(\",\")\n",
    "for list in c:\n",
    "    단 = int(list[0])\n",
    "    수 = int(list[1])\n",
    "    print(f\"{단} * {수} = {단 * 수}\")\n",
    "b.close()"
   ]
  },
  {
   "cell_type": "code",
   "execution_count": 45,
   "metadata": {},
   "outputs": [
    {
     "name": "stdout",
     "output_type": "stream",
     "text": [
      "2 * 9 * 18\n",
      "2 * 8 * 16\n",
      "2 * 7 * 14\n",
      "2 * 6 * 12\n",
      "2 * 5 * 10\n",
      "2 * 4 * 8\n",
      "2 * 3 * 6\n",
      "2 * 2 * 4\n",
      "2 * 1 * 2\n",
      "4 * 9 * 36\n",
      "4 * 8 * 32\n",
      "4 * 7 * 28\n",
      "4 * 6 * 24\n",
      "4 * 5 * 20\n",
      "4 * 4 * 16\n",
      "4 * 3 * 12\n",
      "4 * 2 * 8\n",
      "4 * 1 * 4\n"
     ]
    }
   ],
   "source": [
    "b = open(\"q.csv\")\n",
    "# print(b.readlines())\n",
    "c = b.readlines()\n",
    "for i in range(len(c)):\n",
    "    c[i] = c[i].replace(\"\\n\", \"\").split(\",\")\n",
    "b.close()\n",
    "for list in c:\n",
    "    print(f\"{list[0]} * {list[1]} * {int(list[0]) * int(list[1])}\")"
   ]
  }
 ],
 "metadata": {
  "kernelspec": {
   "display_name": "Python 3",
   "language": "python",
   "name": "python3"
  },
  "language_info": {
   "codemirror_mode": {
    "name": "ipython",
    "version": 3
   },
   "file_extension": ".py",
   "mimetype": "text/x-python",
   "name": "python",
   "nbconvert_exporter": "python",
   "pygments_lexer": "ipython3",
   "version": "3.11.9"
  }
 },
 "nbformat": 4,
 "nbformat_minor": 2
}
