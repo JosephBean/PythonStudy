{
 "cells": [
  {
   "cell_type": "code",
   "execution_count": 1,
   "metadata": {},
   "outputs": [
    {
     "data": {
      "text/plain": [
       "<_io.TextIOWrapper name='1.txt' mode='w' encoding='cp949'>"
      ]
     },
     "execution_count": 1,
     "metadata": {},
     "output_type": "execute_result"
    }
   ],
   "source": [
    "open(\"1.txt\", \"w\")"
   ]
  },
  {
   "cell_type": "code",
   "execution_count": 12,
   "metadata": {},
   "outputs": [
    {
     "name": "stdout",
     "output_type": "stream",
     "text": [
      "True\n",
      "True\n",
      "False\n"
     ]
    }
   ],
   "source": [
    "a = open(\"1.txt\", encoding=\"UTF-8\")\n",
    "print(a.readline() != \"\")\n",
    "print(a.readline() != \"\")\n",
    "print(a.readline() != \"\")"
   ]
  },
  {
   "cell_type": "code",
   "execution_count": 18,
   "metadata": {},
   "outputs": [
    {
     "name": "stdout",
     "output_type": "stream",
     "text": [
      "가나다라\n",
      "\n",
      "ABCDE\n"
     ]
    }
   ],
   "source": [
    "a = open(\"1.txt\", encoding=\"UTF-8\")\n",
    "while 1:\n",
    "    txt = a.readline()\n",
    "    if txt == \"\": break\n",
    "    print(txt)\n",
    "a.close()"
   ]
  },
  {
   "cell_type": "code",
   "execution_count": null,
   "metadata": {},
   "outputs": [],
   "source": [
    "b = open(\"1.txt\", mode=\"a\", encoding=\"UTF-8\")\n",
    "b.write(\"\\n글 추가\")\n",
    "b.close()\n",
    "# w : 기존 내용 삭제 후 다시 내용 채우기\n",
    "# a : 기존 내용 뒤로 추가 (단, 행을 변경해서 추가 할 경우는 특수기호 넣기)"
   ]
  },
  {
   "cell_type": "code",
   "execution_count": 22,
   "metadata": {},
   "outputs": [],
   "source": [
    "b = open(\"1.txt\", mode=\"a\", encoding=\"UTF-8\")\n",
    "txt = input(\"글 추가하세요\")\n",
    "b.write(f\"\\n{txt}\")\n",
    "b.close()"
   ]
  },
  {
   "cell_type": "code",
   "execution_count": 28,
   "metadata": {},
   "outputs": [],
   "source": [
    "def 글길이구하기(파일):\n",
    "    글 = open(파일, encoding=\"utf-8\")\n",
    "    cnt = 0\n",
    "    while 1:\n",
    "        if 글.readline() == \"\":\n",
    "            break\n",
    "        else:\n",
    "            cnt += 1\n",
    "    글.close()\n",
    "    return cnt\n",
    "def 메모장():\n",
    "    파일 = \"2.txt\"\n",
    "    cnt = 글길이구하기(파일)\n",
    "    메모 = open(파일, mode=\"a\", encoding=\"utf-8\")\n",
    "    while 1:\n",
    "        txt = input(\"글 내용 추가\")\n",
    "        if txt == \"\":\n",
    "            break\n",
    "        if cnt == 0:\n",
    "            메모.write(f\"{txt}\")\n",
    "            cnt += 1\n",
    "        else:\n",
    "            메모.write(f\"\\n{txt}\")\n",
    "    메모.close()\n",
    "\n",
    "메모장()"
   ]
  }
 ],
 "metadata": {
  "kernelspec": {
   "display_name": "Python 3",
   "language": "python",
   "name": "python3"
  },
  "language_info": {
   "codemirror_mode": {
    "name": "ipython",
    "version": 3
   },
   "file_extension": ".py",
   "mimetype": "text/x-python",
   "name": "python",
   "nbconvert_exporter": "python",
   "pygments_lexer": "ipython3",
   "version": "3.11.9"
  }
 },
 "nbformat": 4,
 "nbformat_minor": 2
}
