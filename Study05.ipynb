{
 "cells": [
  {
   "cell_type": "code",
   "execution_count": 7,
   "metadata": {},
   "outputs": [
    {
     "data": {
      "text/plain": [
       "True"
      ]
     },
     "execution_count": 7,
     "metadata": {},
     "output_type": "execute_result"
    }
   ],
   "source": [
    "a = True\n",
    "a"
   ]
  },
  {
   "cell_type": "code",
   "execution_count": 10,
   "metadata": {},
   "outputs": [
    {
     "data": {
      "text/plain": [
       "int"
      ]
     },
     "execution_count": 10,
     "metadata": {},
     "output_type": "execute_result"
    }
   ],
   "source": [
    "a = 1\n",
    "type(a)"
   ]
  },
  {
   "cell_type": "code",
   "execution_count": 13,
   "metadata": {},
   "outputs": [
    {
     "data": {
      "text/plain": [
       "3"
      ]
     },
     "execution_count": 13,
     "metadata": {},
     "output_type": "execute_result"
    }
   ],
   "source": [
    "a = \"abcdef\"\n",
    "a.index('d')\n",
    "a.find('d')"
   ]
  },
  {
   "cell_type": "code",
   "execution_count": 17,
   "metadata": {},
   "outputs": [
    {
     "data": {
      "text/plain": [
       "'de'"
      ]
     },
     "execution_count": 17,
     "metadata": {},
     "output_type": "execute_result"
    }
   ],
   "source": [
    "a[3:-1]"
   ]
  },
  {
   "cell_type": "code",
   "execution_count": 18,
   "metadata": {},
   "outputs": [],
   "source": [
    "b = \"ab%s\" % \"c\""
   ]
  },
  {
   "cell_type": "code",
   "execution_count": 20,
   "metadata": {},
   "outputs": [
    {
     "data": {
      "text/plain": [
       "'abc'"
      ]
     },
     "execution_count": 20,
     "metadata": {},
     "output_type": "execute_result"
    }
   ],
   "source": [
    "b"
   ]
  },
  {
   "cell_type": "code",
   "execution_count": 22,
   "metadata": {},
   "outputs": [
    {
     "data": {
      "text/plain": [
       "'ab3'"
      ]
     },
     "execution_count": 22,
     "metadata": {},
     "output_type": "execute_result"
    }
   ],
   "source": [
    "b = \"ab%d\" % 3\n",
    "b"
   ]
  },
  {
   "cell_type": "code",
   "execution_count": 25,
   "metadata": {},
   "outputs": [
    {
     "data": {
      "text/plain": [
       "'ab3'"
      ]
     },
     "execution_count": 25,
     "metadata": {},
     "output_type": "execute_result"
    }
   ],
   "source": [
    "c = \"ab\" + str(3)\n",
    "c"
   ]
  },
  {
   "cell_type": "code",
   "execution_count": 28,
   "metadata": {},
   "outputs": [
    {
     "data": {
      "text/plain": [
       "'ab1'"
      ]
     },
     "execution_count": 28,
     "metadata": {},
     "output_type": "execute_result"
    }
   ],
   "source": [
    "c = \"ab\" + \"{0}\".format(1)\n",
    "c"
   ]
  },
  {
   "cell_type": "code",
   "execution_count": 31,
   "metadata": {},
   "outputs": [
    {
     "data": {
      "text/plain": [
       "'ab3'"
      ]
     },
     "execution_count": 31,
     "metadata": {},
     "output_type": "execute_result"
    }
   ],
   "source": [
    "c = f\"ab{3}\"\n",
    "c"
   ]
  },
  {
   "cell_type": "code",
   "execution_count": 37,
   "metadata": {},
   "outputs": [
    {
     "data": {
      "text/plain": [
       "'a,b,c,d,e,f'"
      ]
     },
     "execution_count": 37,
     "metadata": {},
     "output_type": "execute_result"
    }
   ],
   "source": [
    "b = \",\".join(a)\n",
    "b"
   ]
  },
  {
   "cell_type": "code",
   "execution_count": 39,
   "metadata": {},
   "outputs": [
    {
     "data": {
      "text/plain": [
       "['a', 'b', 'c', 'd', 'e', 'f']"
      ]
     },
     "execution_count": 39,
     "metadata": {},
     "output_type": "execute_result"
    }
   ],
   "source": [
    "c = b.split(\",\")\n",
    "c"
   ]
  },
  {
   "cell_type": "code",
   "execution_count": 13,
   "metadata": {},
   "outputs": [
    {
     "name": "stdout",
     "output_type": "stream",
     "text": [
      "Feeling : F > 1\n",
      "Feeling : e > 2\n",
      "Feeling : l > 1\n",
      "Feeling : i > 1\n",
      "Feeling : n > 1\n",
      "Feeling : g > 1\n",
      "grateful : g > 1\n",
      "grateful : r > 1\n",
      "grateful : a > 1\n",
      "grateful : t > 1\n",
      "grateful : e > 1\n",
      "grateful : f > 1\n",
      "grateful : u > 1\n",
      "grateful : l > 1\n",
      "and : a > 1\n",
      "and : n > 1\n",
      "and : d > 1\n",
      "content : c > 1\n",
      "content : o > 1\n",
      "content : n > 2\n",
      "content : t > 2\n",
      "content : e > 1\n",
      "today : t > 1\n",
      "today : o > 1\n",
      "today : d > 1\n",
      "today : a > 1\n",
      "today : y > 1\n"
     ]
    }
   ],
   "source": [
    "a = \"Feeling grateful and content today\"\n",
    "# Q1 위의 a 변수에 들어 있는 문자 중에 'n'이 몇번 들어 있는지 출력하시오.\n",
    "# a.count('n')\n",
    "# Q2 위의 a 변수에 들어 있는 내용 중에 빈칸를 이용하여 조각을 내시오.\n",
    "arr = a.split(\" \")\n",
    "# Q3 위의 조각난 문자열를 이용하여 가장 많이 사용되는 문자는 무엇일까요?\n",
    "for txt in arr:\n",
    "    txts = \",\".join(txt).split(\",\")\n",
    "    arr = []\n",
    "    for s in txts:\n",
    "        if s not in arr:\n",
    "            arr.append(s)\n",
    "    for t in arr:\n",
    "        print(f\"{txt} : {t} > {txt.count(t)}\")"
   ]
  },
  {
   "cell_type": "code",
   "execution_count": null,
   "metadata": {},
   "outputs": [
    {
     "name": "stdout",
     "output_type": "stream",
     "text": [
      "['Feeling : 2', 'grateful : 1', 'and : 1', 'content : 2', 'today : 1']\n"
     ]
    }
   ],
   "source": [
    "arr = a.split(\" \")\n",
    "strs = []\n",
    "for txt in arr:\n",
    "    t = \",\".join(txt).split(\",\")\n",
    "    ts = []\n",
    "    for s in t:\n",
    "        if s not in ts:\n",
    "            ts.append(s)\n",
    "    b = 0\n",
    "    for s in ts:\n",
    "        if b < txt.count(s):\n",
    "            b = txt.count(s)\n",
    "    strs.append(f\"{txt} : {b}\")\n",
    "print(strs)"
   ]
  }
 ],
 "metadata": {
  "kernelspec": {
   "display_name": "Python 3",
   "language": "python",
   "name": "python3"
  },
  "language_info": {
   "codemirror_mode": {
    "name": "ipython",
    "version": 3
   },
   "file_extension": ".py",
   "mimetype": "text/x-python",
   "name": "python",
   "nbconvert_exporter": "python",
   "pygments_lexer": "ipython3",
   "version": "3.11.9"
  }
 },
 "nbformat": 4,
 "nbformat_minor": 2
}
