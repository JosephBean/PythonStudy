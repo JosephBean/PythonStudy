{
 "cells": [
  {
   "cell_type": "code",
   "execution_count": 6,
   "metadata": {},
   "outputs": [
    {
     "name": "stdout",
     "output_type": "stream",
     "text": [
      "5와 5가 같다\n"
     ]
    }
   ],
   "source": [
    "if 5 > 7: \n",
    "    print(\"5가 7보다 크다\")\n",
    "elif 5 == 5:\n",
    "    print(\"5와 5가 같다\")\n",
    "else:\n",
    "    print(\"5가 7보다 작다\")"
   ]
  },
  {
   "cell_type": "code",
   "execution_count": 9,
   "metadata": {},
   "outputs": [],
   "source": [
    "while 0:\n",
    "    print(\"출력\")"
   ]
  },
  {
   "cell_type": "code",
   "execution_count": null,
   "metadata": {},
   "outputs": [],
   "source": [
    "a = True\n",
    "#while a:\n",
    "    # print(\"출력\")"
   ]
  },
  {
   "cell_type": "code",
   "execution_count": null,
   "metadata": {},
   "outputs": [],
   "source": [
    "a = True\n",
    "b = 0\n",
    "while a:\n",
    "    print(f\"출력{b}\")    \n",
    "    b += 1 # 1증가씩\n",
    "    if b >= 5 : # 상태값 비교 0 >= 5, 1 >= 5, .... 5 >= 5 참\n",
    "        a = False # 5회전 했을 경우 a변수 종료"
   ]
  },
  {
   "cell_type": "code",
   "execution_count": 18,
   "metadata": {},
   "outputs": [
    {
     "name": "stdout",
     "output_type": "stream",
     "text": [
      "출력 0\n",
      "출력 1\n",
      "출력 2\n",
      "출력 3\n",
      "출력 4\n"
     ]
    }
   ],
   "source": [
    "b = 0\n",
    "while b < 5:\n",
    "    print(f\"출력 {b}\")\n",
    "    b += 1"
   ]
  }
 ],
 "metadata": {
  "kernelspec": {
   "display_name": "Python 3",
   "language": "python",
   "name": "python3"
  },
  "language_info": {
   "codemirror_mode": {
    "name": "ipython",
    "version": 3
   },
   "file_extension": ".py",
   "mimetype": "text/x-python",
   "name": "python",
   "nbconvert_exporter": "python",
   "pygments_lexer": "ipython3",
   "version": "3.11.9"
  }
 },
 "nbformat": 4,
 "nbformat_minor": 2
}
