{
 "cells": [
  {
   "cell_type": "code",
   "execution_count": 6,
   "metadata": {},
   "outputs": [
    {
     "name": "stdout",
     "output_type": "stream",
     "text": [
      "5와 5가 같다\n"
     ]
    }
   ],
   "source": [
    "if 5 > 7: \n",
    "    print(\"5가 7보다 크다\")\n",
    "elif 5 == 5:\n",
    "    print(\"5와 5가 같다\")\n",
    "else:\n",
    "    print(\"5가 7보다 작다\")"
   ]
  },
  {
   "cell_type": "code",
   "execution_count": 9,
   "metadata": {},
   "outputs": [],
   "source": [
    "while 0:\n",
    "    print(\"출력\")"
   ]
  },
  {
   "cell_type": "code",
   "execution_count": null,
   "metadata": {},
   "outputs": [],
   "source": [
    "a = True\n",
    "#while a:\n",
    "    # print(\"출력\")"
   ]
  },
  {
   "cell_type": "code",
   "execution_count": null,
   "metadata": {},
   "outputs": [],
   "source": [
    "a = True\n",
    "b = 0\n",
    "while a:\n",
    "    print(f\"출력{b}\")    \n",
    "    b += 1 # 1증가씩\n",
    "    if b >= 5 : # 상태값 비교 0 >= 5, 1 >= 5, .... 5 >= 5 참\n",
    "        a = False # 5회전 했을 경우 a변수 종료"
   ]
  },
  {
   "cell_type": "code",
   "execution_count": null,
   "metadata": {},
   "outputs": [],
   "source": [
    "b = 0\n",
    "while b < 5:\n",
    "    print(f\"출력 {b}\")\n",
    "    b += 1"
   ]
  },
  {
   "cell_type": "markdown",
   "metadata": {},
   "source": [
    "Q1. while문으로 구구단 1 ~ 9단까지 출력하시오.\n",
    "Q2. while문으로 만든 구구단에서 짝수 단만 출력하시오."
   ]
  },
  {
   "cell_type": "code",
   "execution_count": null,
   "metadata": {},
   "outputs": [],
   "source": [
    "# Q1\n",
    "i = 1\n",
    "while i <= 9:\n",
    "    j = 1\n",
    "    while j <= 9:\n",
    "        print(f\"{i} * {j} = {i * j}\")\n",
    "        j += 1\n",
    "    i += 1"
   ]
  },
  {
   "cell_type": "code",
   "execution_count": null,
   "metadata": {},
   "outputs": [],
   "source": [
    "# Q2-1\n",
    "i = 1\n",
    "while i <= 9:\n",
    "    if i % 2 == 0:\n",
    "        j = 1\n",
    "        while j <= 9:\n",
    "            print(f\"{i} * {j} = {i * j}\")\n",
    "            j += 1\n",
    "    i += 1"
   ]
  },
  {
   "cell_type": "code",
   "execution_count": null,
   "metadata": {},
   "outputs": [],
   "source": [
    "# Q2-2\n",
    "i = 1\n",
    "while i <= 9:\n",
    "    if (i % 2) != 0: \n",
    "        i += 1\n",
    "        continue\n",
    "    j = 1\n",
    "    while j <= 9:\n",
    "        print(f\"{i} * {j} = {i * j}\")\n",
    "        j += 1\n",
    "    i += 1"
   ]
  }
 ],
 "metadata": {
  "kernelspec": {
   "display_name": "Python 3",
   "language": "python",
   "name": "python3"
  },
  "language_info": {
   "codemirror_mode": {
    "name": "ipython",
    "version": 3
   },
   "file_extension": ".py",
   "mimetype": "text/x-python",
   "name": "python",
   "nbconvert_exporter": "python",
   "pygments_lexer": "ipython3",
   "version": "3.11.9"
  }
 },
 "nbformat": 4,
 "nbformat_minor": 2
}
