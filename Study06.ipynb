{
 "cells": [
  {
   "cell_type": "code",
   "execution_count": null,
   "metadata": {},
   "outputs": [
    {
     "data": {
      "text/plain": [
       "[1, [], 3, 4]"
      ]
     },
     "execution_count": 21,
     "metadata": {},
     "output_type": "execute_result"
    }
   ],
   "source": [
    "# 리스트 : 배열, 값을 변경 가능, 삭제 가능, 값 추가 가능\n",
    "# 튜플 : 배열, 값을 한번 넣으면 변경 불가능(상수), 삭제 불가능, 값 추가 불가능\n",
    "\n",
    "a = [1,2,3,4]\n",
    "b = (1,2,3,4)\n",
    "\n",
    "a[1] = 5\n",
    "a\n",
    "# b[1] = 5\n",
    "# b\n",
    "# b[1]\n",
    "\n",
    "a[1] = []\n",
    "a[1].append(5)\n",
    "a[1]\n",
    "\n",
    "a[1][0] = 6\n",
    "\n",
    "del a[1][0]\n",
    "a"
   ]
  },
  {
   "cell_type": "code",
   "execution_count": 27,
   "metadata": {},
   "outputs": [
    {
     "data": {
      "text/plain": [
       "10"
      ]
     },
     "execution_count": 27,
     "metadata": {},
     "output_type": "execute_result"
    }
   ],
   "source": [
    "a = []\n",
    "for i in range(10):\n",
    "    a.append(\"\")\n",
    "len(a)"
   ]
  },
  {
   "cell_type": "code",
   "execution_count": null,
   "metadata": {},
   "outputs": [
    {
     "data": {
      "text/plain": [
       "['', 'B', '', '', '', '', '', '', '', '']"
      ]
     },
     "execution_count": 32,
     "metadata": {},
     "output_type": "execute_result"
    }
   ],
   "source": [
    "a = [\"\"] * 10\n",
    "len(a)\n",
    "a[1] = \"B\"\n",
    "a"
   ]
  },
  {
   "cell_type": "code",
   "execution_count": 35,
   "metadata": {},
   "outputs": [
    {
     "data": {
      "text/plain": [
       "[['', 'B', '', '', '', '', '', '', '', ''],\n",
       " ['', 'B', '', '', '', '', '', '', '', ''],\n",
       " ['', 'B', '', '', '', '', '', '', '', ''],\n",
       " ['', 'B', '', '', '', '', '', '', '', ''],\n",
       " ['', 'B', '', '', '', '', '', '', '', ''],\n",
       " ['', 'B', '', '', '', '', '', '', '', ''],\n",
       " ['', 'B', '', '', '', '', '', '', '', ''],\n",
       " ['', 'B', '', '', '', '', '', '', '', ''],\n",
       " ['', 'B', '', '', '', '', '', '', '', ''],\n",
       " ['', 'B', '', '', '', '', '', '', '', '']]"
      ]
     },
     "execution_count": 35,
     "metadata": {},
     "output_type": "execute_result"
    }
   ],
   "source": [
    "a = [[\"\"] * 10] * 10\n",
    "a[4][1] = \"B\"\n",
    "a"
   ]
  },
  {
   "cell_type": "code",
   "execution_count": 37,
   "metadata": {},
   "outputs": [
    {
     "data": {
      "text/plain": [
       "[['', '', '', '', '', '', '', '', '', ''],\n",
       " ['', '', '', '', '', '', '', '', '', ''],\n",
       " ['', '', '', '', '', '', '', '', '', ''],\n",
       " ['', '', '', '', '', '', '', '', '', ''],\n",
       " ['', '', '', 'C', '', '', '', '', '', ''],\n",
       " ['', '', '', '', '', '', '', '', '', ''],\n",
       " ['', '', '', '', '', '', '', '', '', ''],\n",
       " ['', '', '', '', '', '', '', '', '', ''],\n",
       " ['', '', '', '', '', '', '', '', '', ''],\n",
       " ['', '', '', '', '', '', '', '', '', '']]"
      ]
     },
     "execution_count": 37,
     "metadata": {},
     "output_type": "execute_result"
    }
   ],
   "source": [
    "a = [[\"\"] * 10 for i in range(10)]\n",
    "a[4][3] = \"C\"\n",
    "a"
   ]
  },
  {
   "cell_type": "code",
   "execution_count": 39,
   "metadata": {},
   "outputs": [
    {
     "name": "stdout",
     "output_type": "stream",
     "text": [
      "1\n",
      "2\n",
      "메롱\n",
      "4\n",
      "5\n",
      "6\n",
      "7\n",
      "8\n",
      "9\n"
     ]
    }
   ],
   "source": [
    "a = [1,2,3,4,5,6,7,8,9]\n",
    "\n",
    "for i in a:\n",
    "    print(\"메롱\" if i == 3 else i)"
   ]
  },
  {
   "cell_type": "code",
   "execution_count": 42,
   "metadata": {},
   "outputs": [
    {
     "data": {
      "text/plain": [
       "'1'"
      ]
     },
     "execution_count": 42,
     "metadata": {},
     "output_type": "execute_result"
    }
   ],
   "source": [
    "a = input()\n",
    "a"
   ]
  },
  {
   "cell_type": "code",
   "execution_count": 45,
   "metadata": {},
   "outputs": [
    {
     "name": "stdout",
     "output_type": "stream",
     "text": [
      "안녕하세요.(종료:EXIT)\n"
     ]
    }
   ],
   "source": [
    "# Q1 자바에서 만들어 본 자판기 기능을 구현해보세요.\n",
    "while 1:\n",
    "    print(\"안녕하세요.(종료:EXIT)\")\n",
    "    a = input()\n",
    "    if a.upper() == 'EXIT':\n",
    "        break"
   ]
  },
  {
   "cell_type": "code",
   "execution_count": null,
   "metadata": {},
   "outputs": [],
   "source": [
    "print(\"=\"*50)\n",
    "print(\"안녕하세요.(종료:EXIT)\")\n",
    "while 1:\n",
    "    a = input()\n",
    "    if a.upper() == 'EXIT': break\n",
    "    try:\n",
    "        no = int(a)\n",
    "        txt = \" \"\n",
    "        if no == 1: txt = \"음료\"\n",
    "        elif no == 2: txt = \"과자\"\n",
    "        elif no == 3: txt = \"아이스크림\"\n",
    "        print(f\"{txt}을 선택 하셨습니다.\" if txt != \" \" else \"다시 선택하세요.\")\n",
    "    except ValueError: print(\"입력 받은 값이 숫자가 아닙니다.\")\n",
    "    print(\"종료(EXIT) 또는 다음 숫자를 선택하세요.(1,2,3)\")\n",
    "print(\"=\"*50)"
   ]
  },
  {
   "cell_type": "code",
   "execution_count": null,
   "metadata": {},
   "outputs": [],
   "source": [
    "drink = [\"사이다\",\"콜라\",\"물\"]\n",
    "price = [1000,2000,3000]\n",
    "\n",
    "while 1:\n",
    "    print(\"안녕하세요.(종료:EXIT)\")\n",
    "    print(\"음료수를 선택하세요 1번:사이다 2번:콜라 3번:물\")\n",
    "    \n",
    "    a = input()\n",
    "    if a.upper() == \"EXIT\":\n",
    "        print(\"종료:EXIT 되었습니다.\")\n",
    "        break    \n",
    "    try:\n",
    "        n = int(a)\n",
    "        if( a == \"1\" or a == \"2\" or a == \"3\"):\n",
    "            print(f\"선택하신 {drink[n-1]}의 가격은 {price[n-1]}원 입니다. 뽑으시려면 Y를 선택해주세요. \")\n",
    "            if(\"Y\" == input()):\n",
    "                print(\"뽑기완료\")\n",
    "            else:\n",
    "                print(\"뽑기취소\")\n",
    "        else:\n",
    "            print(\"1 ~ 3 숫자 번호로만 입력이 가능합니다.\")\n",
    "    except ValueError:\n",
    "        print(\"입력 오류\")"
   ]
  },
  {
   "cell_type": "code",
   "execution_count": 61,
   "metadata": {},
   "outputs": [
    {
     "name": "stdout",
     "output_type": "stream",
     "text": [
      "안녕하세요. (종료:EXIT)\n",
      "버튼을 눌러 음료를 선택하세요 (1~5:)\n",
      "콜라\n",
      "사이다\n",
      "환타\n",
      "레몬에이드\n",
      "포카리\n",
      "1800\n",
      "1600\n",
      "1400\n",
      "2000\n",
      "3000\n",
      "선택하신 음료는 콜라  입니다\n",
      "안녕하세요. (종료:EXIT)\n",
      "버튼을 눌러 음료를 선택하세요 (1~5:)\n",
      "콜라\n",
      "사이다\n",
      "환타\n",
      "레몬에이드\n",
      "포카리\n",
      "1800\n",
      "1600\n",
      "1400\n",
      "2000\n",
      "3000\n",
      "선택하신 음료는 사이다  입니다\n",
      "안녕하세요. (종료:EXIT)\n",
      "버튼을 눌러 음료를 선택하세요 (1~5:)\n",
      "콜라\n",
      "사이다\n",
      "환타\n",
      "레몬에이드\n",
      "포카리\n",
      "1800\n",
      "1600\n",
      "1400\n",
      "2000\n",
      "3000\n"
     ]
    }
   ],
   "source": [
    "drink= (\"콜라\", \"사이다\", \"환타\", \"레몬에이드\", \"포카리\")\n",
    "price = (1800, 1600,1400,2000,3000)\n",
    "\n",
    "\n",
    "while 1:\n",
    "    print(\"안녕하세요. (종료:EXIT)\")\n",
    "    print (\"버튼을 눌러 음료를 선택하세요 (1~5:)\")\n",
    "    for d in drink:\n",
    "        print(d)\n",
    "    for p in price:\n",
    "        print(p)\n",
    "    \n",
    "    a = input() #사용자 선택\n",
    "    if a == \"exit\": break\n",
    "    a = int(a)\n",
    "    if a>=1 and a <=5:\n",
    "        print (f\"선택하신 음료는 {drink[a-1]}  입니다\")\n",
    "    #     print (f\"{price[a-1]} 원을 넣어주세요\")"
   ]
  }
 ],
 "metadata": {
  "kernelspec": {
   "display_name": "Python 3",
   "language": "python",
   "name": "python3"
  },
  "language_info": {
   "codemirror_mode": {
    "name": "ipython",
    "version": 3
   },
   "file_extension": ".py",
   "mimetype": "text/x-python",
   "name": "python",
   "nbconvert_exporter": "python",
   "pygments_lexer": "ipython3",
   "version": "3.11.9"
  }
 },
 "nbformat": 4,
 "nbformat_minor": 2
}
