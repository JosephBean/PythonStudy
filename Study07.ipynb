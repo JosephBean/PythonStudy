{
 "cells": [
  {
   "cell_type": "markdown",
   "metadata": {},
   "source": [
    "# Q1. 1차원 배열 `[1,2,3,4,5]`에서 각각 10을 곱하여 2차원 배열로 만드시오."
   ]
  },
  {
   "cell_type": "code",
   "execution_count": 8,
   "metadata": {},
   "outputs": [
    {
     "name": "stdout",
     "output_type": "stream",
     "text": [
      "[[1, 10], [2, 20], [3, 30], [4, 40], [5, 50]]\n"
     ]
    }
   ],
   "source": [
    "arr1 = [1,2,3,4,5]\n",
    "arr2 = []\n",
    "for d in arr1:\n",
    "    arr3 = []\n",
    "    # print(f'{d} * 10 = {d * 10}')\n",
    "    arr3.append(d)\n",
    "    arr3.append(d * 10)\n",
    "    arr2.append(arr3)\n",
    "print(arr2)\n"
   ]
  },
  {
   "cell_type": "markdown",
   "metadata": {},
   "source": [
    "# Q2. 2차원 배열에서 각 열에 대한 목록을 출력하시오."
   ]
  },
  {
   "cell_type": "code",
   "execution_count": null,
   "metadata": {},
   "outputs": [
    {
     "data": {
      "text/plain": [
       "['홍길동', '류관순', '강감찬', '이성계', '이황']"
      ]
     },
     "execution_count": 4,
     "metadata": {},
     "output_type": "execute_result"
    }
   ],
   "source": [
    "arr = [\n",
    "    [1, \"홍길동\", 17],\n",
    "    [2, \"류관순\", 16],\n",
    "    [3, \"강감찬\", 78],\n",
    "    [4, \"이성계\", 42],\n",
    "    [5, \"이황\", 57]\n",
    "]\n",
    "arr2 = [\n",
    "    [1,2,3,4,5],\n",
    "    [\"홍길동\", \"류관순\", \"강감찬\", \"이성계\", \"이황\"],\n",
    "    [17, 16, 78, 42, 57]\n",
    "]"
   ]
  },
  {
   "cell_type": "code",
   "execution_count": 11,
   "metadata": {},
   "outputs": [
    {
     "name": "stdout",
     "output_type": "stream",
     "text": [
      "<class 'list'> [1, 2, 3, 4, 5]\n",
      "<class 'numpy.ndarray'> [1 2 3 4 5]\n",
      "[10 20 30 40 50]\n"
     ]
    }
   ],
   "source": [
    "# Q1 문제를 numpy로 했을 경우\n",
    "import numpy as np\n",
    "arr4 = np.array(arr1)\n",
    "print(type(arr1), arr1)\n",
    "print(type(arr4), arr4)\n",
    "\n",
    "print(arr4 * 10)"
   ]
  }
 ],
 "metadata": {
  "kernelspec": {
   "display_name": "Python 3",
   "language": "python",
   "name": "python3"
  },
  "language_info": {
   "codemirror_mode": {
    "name": "ipython",
    "version": 3
   },
   "file_extension": ".py",
   "mimetype": "text/x-python",
   "name": "python",
   "nbconvert_exporter": "python",
   "pygments_lexer": "ipython3",
   "version": "3.11.9"
  }
 },
 "nbformat": 4,
 "nbformat_minor": 2
}
