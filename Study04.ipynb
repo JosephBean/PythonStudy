{
 "cells": [
  {
   "cell_type": "code",
   "execution_count": null,
   "metadata": {},
   "outputs": [],
   "source": [
    "i = 1\n",
    "while i <= 9:\n",
    "    print(\"i값: \" + str(i))\n",
    "    i = i + 1\n",
    "print(\"반복문 종료\")\n"
   ]
  },
  {
   "cell_type": "code",
   "execution_count": null,
   "metadata": {},
   "outputs": [],
   "source": [
    "i = 1\n",
    "while i <= 9:\n",
    "    j = 1\n",
    "    while j <= 9:\n",
    "        print(f\"{i} * {j} = {i * j}\")\n",
    "        j = j + 1\n",
    "    i = i + 1\n",
    "print(\"반복문 종료\")\n"
   ]
  },
  {
   "cell_type": "code",
   "execution_count": 8,
   "metadata": {},
   "outputs": [
    {
     "name": "stdout",
     "output_type": "stream",
     "text": [
      "[['1 * 1 = 1', '1 * 2 = 2', '1 * 3 = 3', '1 * 4 = 4', '1 * 5 = 5', '1 * 6 = 6', '1 * 7 = 7', '1 * 8 = 8', '1 * 9 = 9'], ['2 * 1 = 2', '2 * 2 = 4', '2 * 3 = 6', '2 * 4 = 8', '2 * 5 = 10', '2 * 6 = 12', '2 * 7 = 14', '2 * 8 = 16', '2 * 9 = 18'], ['3 * 1 = 3', '3 * 2 = 6', '3 * 3 = 9', '3 * 4 = 12', '3 * 5 = 15', '3 * 6 = 18', '3 * 7 = 21', '3 * 8 = 24', '3 * 9 = 27'], ['4 * 1 = 4', '4 * 2 = 8', '4 * 3 = 12', '4 * 4 = 16', '4 * 5 = 20', '4 * 6 = 24', '4 * 7 = 28', '4 * 8 = 32', '4 * 9 = 36'], ['5 * 1 = 5', '5 * 2 = 10', '5 * 3 = 15', '5 * 4 = 20', '5 * 5 = 25', '5 * 6 = 30', '5 * 7 = 35', '5 * 8 = 40', '5 * 9 = 45'], ['6 * 1 = 6', '6 * 2 = 12', '6 * 3 = 18', '6 * 4 = 24', '6 * 5 = 30', '6 * 6 = 36', '6 * 7 = 42', '6 * 8 = 48', '6 * 9 = 54'], ['7 * 1 = 7', '7 * 2 = 14', '7 * 3 = 21', '7 * 4 = 28', '7 * 5 = 35', '7 * 6 = 42', '7 * 7 = 49', '7 * 8 = 56', '7 * 9 = 63'], ['8 * 1 = 8', '8 * 2 = 16', '8 * 3 = 24', '8 * 4 = 32', '8 * 5 = 40', '8 * 6 = 48', '8 * 7 = 56', '8 * 8 = 64', '8 * 9 = 72'], ['9 * 1 = 9', '9 * 2 = 18', '9 * 3 = 27', '9 * 4 = 36', '9 * 5 = 45', '9 * 6 = 54', '9 * 7 = 63', '9 * 8 = 72', '9 * 9 = 81']]\n",
      "반복문 종료\n"
     ]
    }
   ],
   "source": [
    "arr1 = [0] * (9)\n",
    "i = 1\n",
    "while i <= 9:\n",
    "    j = 1\n",
    "    arr2 = [0] * (9)\n",
    "    while j <= 9:\n",
    "        # print(i * j)\n",
    "        arr2[j - 1] = f\"{i} * {j} = {i * j}\"\n",
    "        j = j + 1\n",
    "    arr1[i - 1] = arr2\n",
    "    i = i + 1\n",
    "print(arr1)\n",
    "print(\"반복문 종료\")\n"
   ]
  },
  {
   "cell_type": "code",
   "execution_count": 18,
   "metadata": {},
   "outputs": [
    {
     "name": "stdout",
     "output_type": "stream",
     "text": [
      "[['1 * 1 = 1', '1 * 2 = 2', '1 * 3 = 3', '1 * 4 = 4', '1 * 5 = 5', '1 * 6 = 6', '1 * 7 = 7', '1 * 8 = 8', '1 * 9 = 9'], 0, ['3 * 1 = 3', '3 * 2 = 6', '3 * 3 = 9', '3 * 4 = 12', '3 * 5 = 15', '3 * 6 = 18', '3 * 7 = 21', '3 * 8 = 24', '3 * 9 = 27'], 0, ['5 * 1 = 5', '5 * 2 = 10', '5 * 3 = 15', '5 * 4 = 20', '5 * 5 = 25', '5 * 6 = 30', '5 * 7 = 35', '5 * 8 = 40', '5 * 9 = 45'], 0, ['7 * 1 = 7', '7 * 2 = 14', '7 * 3 = 21', '7 * 4 = 28', '7 * 5 = 35', '7 * 6 = 42', '7 * 7 = 49', '7 * 8 = 56', '7 * 9 = 63'], 0, ['9 * 1 = 9', '9 * 2 = 18', '9 * 3 = 27', '9 * 4 = 36', '9 * 5 = 45', '9 * 6 = 54', '9 * 7 = 63', '9 * 8 = 72', '9 * 9 = 81']]\n"
     ]
    }
   ],
   "source": [
    "arr1 = [0] * (9)\n",
    "i = 1\n",
    "while i <= 9:\n",
    "    if i % 2 != 0:\n",
    "        j = 1\n",
    "        arr2 = [0] * (9)\n",
    "        while j <= 9:\n",
    "            arr2[j - 1] = f\"{i} * {j} = {i * j}\"\n",
    "            j = j + 1\n",
    "        arr1[i - 1] = arr2\n",
    "    i = i + 1\n",
    "print(arr1)\n",
    "# print(\"반복문 종료\")\n"
   ]
  },
  {
   "cell_type": "code",
   "execution_count": 19,
   "metadata": {},
   "outputs": [
    {
     "name": "stdout",
     "output_type": "stream",
     "text": [
      "XXXXX\n",
      "XXXXX\n",
      "OOOOO\n",
      "XXXXX\n",
      "XXXXX\n"
     ]
    }
   ],
   "source": [
    "i = 1\n",
    "while i <= 5:\n",
    "    j = 1\n",
    "    b = \"\"\n",
    "    while j <= 5:\n",
    "        if i == 3:\n",
    "            b = b + \"O\"\n",
    "        else:\n",
    "            b = b + \"X\"\n",
    "        j = j + 1\n",
    "    print(b)\n",
    "    i = i + 1\n"
   ]
  },
  {
   "cell_type": "code",
   "execution_count": 21,
   "metadata": {},
   "outputs": [
    {
     "name": "stdout",
     "output_type": "stream",
     "text": [
      "XXOXX\n",
      "XXXXX\n",
      "OOOOO\n",
      "XXXXX\n",
      "XXOXX\n"
     ]
    }
   ],
   "source": [
    "i = 1\n",
    "while i <= 5:\n",
    "    j = 1\n",
    "    b = \"\"\n",
    "    while j <= 5:\n",
    "        if i == 3:\n",
    "            b = b + \"O\"\n",
    "        else:\n",
    "            if (i == 1 and j == 3) or (i == 5 and j == 3):\n",
    "                b = b + \"O\"\n",
    "            else:\n",
    "                b = b + \"X\"\n",
    "        j = j + 1\n",
    "    print(b)\n",
    "    i = i + 1\n"
   ]
  },
  {
   "cell_type": "code",
   "execution_count": 24,
   "metadata": {},
   "outputs": [
    {
     "name": "stdout",
     "output_type": "stream",
     "text": [
      "XXOXX\n",
      "XOOOX\n",
      "OOOOO\n",
      "XOOOX\n",
      "XXOXX\n"
     ]
    }
   ],
   "source": [
    "i = 1\n",
    "while i <= 5:\n",
    "    j = 1\n",
    "    b = \"\"\n",
    "    while j <= 5:\n",
    "        if i == 3:\n",
    "            b = b + \"O\"\n",
    "        else:\n",
    "            if i == 1 and j == 3 or i == 5 and j == 3:\n",
    "                b = b + \"O\"\n",
    "            else:\n",
    "                if (i == 2 and (j == 2 or j == 3 or j == 4)) or (i == 4 and (j == 2 or j == 3 or j == 4)):\n",
    "                    b = b + \"O\"\n",
    "                else:\n",
    "                    b = b + \"X\"\n",
    "        j = j + 1\n",
    "    print(b)\n",
    "    i = i + 1\n"
   ]
  },
  {
   "cell_type": "code",
   "execution_count": 25,
   "metadata": {},
   "outputs": [
    {
     "name": "stdout",
     "output_type": "stream",
     "text": [
      "OXXXXXXXXX\n",
      "XOXXXXXXXX\n",
      "XXOXXXXXXX\n",
      "XXXOXXXXXX\n",
      "XXXXOXXXXX\n",
      "XXXXXOXXXX\n",
      "XXXXXXOXXX\n",
      "XXXXXXXOXX\n",
      "XXXXXXXXOX\n",
      "XXXXXXXXXO\n"
     ]
    }
   ],
   "source": [
    "i = 1\n",
    "while i <= 10:\n",
    "    j = 1\n",
    "    b = \"\"\n",
    "    while j <= 10:\n",
    "        if i == j:\n",
    "            b = b + \"O\"\n",
    "        else:\n",
    "            b = b + \"X\"\n",
    "        j = j + 1\n",
    "    print(b)\n",
    "    i = i + 1\n"
   ]
  },
  {
   "cell_type": "code",
   "execution_count": null,
   "metadata": {},
   "outputs": [
    {
     "name": "stdout",
     "output_type": "stream",
     "text": [
      "OXXXXXXXXO\n",
      "XOXXXXXXOX\n",
      "XXOXXXXOXX\n",
      "XXXOXXOXXX\n",
      "XXXXOOXXXX\n",
      "XXXXOOXXXX\n",
      "XXXOXXOXXX\n",
      "XXOXXXXOXX\n",
      "XOXXXXXXOX\n",
      "OXXXXXXXXO\n"
     ]
    }
   ],
   "source": [
    "i = 1\n",
    "while i <= 10:\n",
    "    j = 1\n",
    "    b = \"\"\n",
    "    while j <= 10:\n",
    "        if i == j:\n",
    "            b = b + \"O\"\n",
    "        else:\n",
    "            if 11 - i == j:\n",
    "                b = b + \"O\"\n",
    "            else:\n",
    "                b = b + \"X\"\n",
    "        j = j + 1\n",
    "    print(b)\n",
    "    i = i + 1\n"
   ]
  }
 ],
 "metadata": {
  "kernelspec": {
   "display_name": "Python 3",
   "language": "python",
   "name": "python3"
  },
  "language_info": {
   "codemirror_mode": {
    "name": "ipython",
    "version": 3
   },
   "file_extension": ".py",
   "mimetype": "text/x-python",
   "name": "python",
   "nbconvert_exporter": "python",
   "pygments_lexer": "ipython3",
   "version": "3.11.9"
  }
 },
 "nbformat": 4,
 "nbformat_minor": 2
}
