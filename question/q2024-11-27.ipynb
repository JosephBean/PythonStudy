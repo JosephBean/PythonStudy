{
 "cells": [
  {
   "cell_type": "code",
   "execution_count": null,
   "metadata": {},
   "outputs": [
    {
     "name": "stdout",
     "output_type": "stream",
     "text": [
      "XXOXX\n",
      "XOOOX\n",
      "OOOOO\n",
      "XOOOX\n",
      "XXOXX\n"
     ]
    }
   ],
   "source": [
    "# Q1\n",
    "for i in range(1, 6) :\n",
    "    a = \"\"\n",
    "    for j in range(1, 6) :\n",
    "        if i == 3 :\n",
    "            a += \"O\"\n",
    "        elif (i == 1 or i == 5) and j == 3 :\n",
    "            a += \"O\"\n",
    "        elif (i == 2 or i == 4) and not (j == 1 or j == 5) :\n",
    "            a += \"O\"\n",
    "        else:\n",
    "            a += \"X\"\n",
    "    print(a)"
   ]
  },
  {
   "cell_type": "code",
   "execution_count": null,
   "metadata": {},
   "outputs": [
    {
     "name": "stdout",
     "output_type": "stream",
     "text": [
      "OXXXXXXXXO\n",
      "XOXXXXXXOX\n",
      "XXOXXXXOXX\n",
      "XXXOXXOXXX\n",
      "XXXXOOXXXX\n",
      "XXXXOOXXXX\n",
      "XXXOXXOXXX\n",
      "XXOXXXXOXX\n",
      "XOXXXXXXOX\n",
      "OXXXXXXXXO\n"
     ]
    }
   ],
   "source": [
    "# Q2\n",
    "for i in range(1, 11) :\n",
    "    a = \"\"\n",
    "    for j in range(1, 11) :\n",
    "        if (i == 1 or i == 10) and (j == 1 or j == 10) :\n",
    "            a += \"O\"\n",
    "        elif (i == 2 or i == 9) and (j == 2 or j == 9) :\n",
    "            a += \"O\"\n",
    "        elif (i == 3 or i == 8) and (j == 3 or j == 8) :\n",
    "            a += \"O\"\n",
    "        elif (i == 4 or i == 7) and (j == 4 or j == 7) :\n",
    "            a += \"O\"\n",
    "        elif (i == 5 or i == 6) and (j == 5 or j == 6) :\n",
    "            a += \"O\"\n",
    "        else :\n",
    "            a += \"X\"\n",
    "    print(a)"
   ]
  },
  {
   "cell_type": "code",
   "execution_count": 15,
   "metadata": {},
   "outputs": [
    {
     "name": "stdout",
     "output_type": "stream",
     "text": [
      "XXOXX\n",
      "XOOOX\n",
      "OOOOO\n",
      "XOOOX\n",
      "XXOXX\n"
     ]
    }
   ],
   "source": [
    "# Q1\n",
    "for i in range(1, 6) :\n",
    "    a = \"\"\n",
    "    for j in range(1, 6) :\n",
    "        a += \"O\" if (i == 3) or ((i == 1 or i == 5) and j == 3) or ((i == 2 or i == 4) and not (j == 1 or j == 5)) else \"X\"\n",
    "    print(a)"
   ]
  },
  {
   "cell_type": "code",
   "execution_count": 16,
   "metadata": {},
   "outputs": [
    {
     "name": "stdout",
     "output_type": "stream",
     "text": [
      "OXXXXXXXXO\n",
      "XOXXXXXXOX\n",
      "XXOXXXXOXX\n",
      "XXXOXXOXXX\n",
      "XXXXOOXXXX\n",
      "XXXXOOXXXX\n",
      "XXXOXXOXXX\n",
      "XXOXXXXOXX\n",
      "XOXXXXXXOX\n",
      "OXXXXXXXXO\n"
     ]
    }
   ],
   "source": [
    "# Q2\n",
    "for i in range(1, 11) :\n",
    "    a = \"\"\n",
    "    for j in range(1, 11) :\n",
    "        a += \"O\" if ((i == 1 or i == 10) and (j == 1 or j == 10)) or ((i == 2 or i == 9) and (j == 2 or j == 9)) or ((i == 3 or i == 8) and (j == 3 or j == 8)) or ((i == 4 or i == 7) and (j == 4 or j == 7)) or ((i == 5 or i == 6) and (j == 5 or j == 6)) else \"X\"\n",
    "    print(a)"
   ]
  },
  {
   "cell_type": "code",
   "execution_count": 20,
   "metadata": {},
   "outputs": [],
   "source": [
    "def view(arr):\n",
    "    for i in arr:\n",
    "        a = \"\"\n",
    "        for j in i:\n",
    "            a += \"O\" if j == 1 else \"X\"\n",
    "        print(a)"
   ]
  },
  {
   "cell_type": "code",
   "execution_count": 24,
   "metadata": {},
   "outputs": [
    {
     "name": "stdout",
     "output_type": "stream",
     "text": [
      "XXOXX\n",
      "XOOOX\n",
      "OOOOO\n",
      "XOOOX\n",
      "XXOXX\n"
     ]
    }
   ],
   "source": [
    "arr1 = ([0,0,1,0,0],[0,1,1,1,0],[1,1,1,1,1],[0,1,1,1,0],[0,0,1,0,0])\n",
    "view(arr1)"
   ]
  },
  {
   "cell_type": "code",
   "execution_count": 23,
   "metadata": {},
   "outputs": [
    {
     "name": "stdout",
     "output_type": "stream",
     "text": [
      "OXXXXXXXXO\n",
      "XOXXXXXXOX\n",
      "XXOXXXXOXX\n",
      "XXXOXXOXXX\n",
      "XXXXOOXXXX\n",
      "XXXXOOXXXX\n",
      "XXXOXXOXXX\n",
      "XXOXXXXOXX\n",
      "XOXXXXXXOX\n",
      "OXXXXXXXXO\n"
     ]
    }
   ],
   "source": [
    "arr2 = ([1,0,0,0,0,0,0,0,0,1],[0,1,0,0,0,0,0,0,1,0],[0,0,1,0,0,0,0,1,0,0],[0,0,0,1,0,0,1,0,0,0],[0,0,0,0,1,1,0,0,0,0],[0,0,0,0,1,1,0,0,0,0],[0,0,0,1,0,0,1,0,0,0],[0,0,1,0,0,0,0,1,0,0],[0,1,0,0,0,0,0,0,1,0],[1,0,0,0,0,0,0,0,0,1])\n",
    "view(arr2)"
   ]
  }
 ],
 "metadata": {
  "kernelspec": {
   "display_name": "Python 3",
   "language": "python",
   "name": "python3"
  },
  "language_info": {
   "codemirror_mode": {
    "name": "ipython",
    "version": 3
   },
   "file_extension": ".py",
   "mimetype": "text/x-python",
   "name": "python",
   "nbconvert_exporter": "python",
   "pygments_lexer": "ipython3",
   "version": "3.11.9"
  }
 },
 "nbformat": 4,
 "nbformat_minor": 2
}
