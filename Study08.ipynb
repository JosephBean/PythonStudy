{
 "cells": [
  {
   "cell_type": "code",
   "execution_count": 3,
   "metadata": {},
   "outputs": [
    {
     "name": "stdout",
     "output_type": "stream",
     "text": [
      "753 10 75.3\n"
     ]
    }
   ],
   "source": [
    "# Q3. 아래의 1차원 배열의 값의 평균값을 구하시오.\n",
    "arr1 = [80,76,63,83,99,87,100,42,68,55]\n",
    "arr1\n",
    "# 전체의 값을 더하고 전체의 갯를 나누면 평균값\n",
    "전체합 = sum(arr1)\n",
    "전체갯수 = len(arr1)\n",
    "print(전체합, 전체갯수, 전체합 / 전체갯수)"
   ]
  },
  {
   "cell_type": "code",
   "execution_count": 4,
   "metadata": {},
   "outputs": [
    {
     "data": {
      "text/plain": [
       "75.3"
      ]
     },
     "execution_count": 4,
     "metadata": {},
     "output_type": "execute_result"
    }
   ],
   "source": [
    "def 평균값(list):\n",
    "    return sum(list) / len(list)\n",
    "\n",
    "평균값(arr1)"
   ]
  },
  {
   "cell_type": "code",
   "execution_count": null,
   "metadata": {},
   "outputs": [
    {
     "name": "stdout",
     "output_type": "stream",
     "text": [
      "['홍길동', 80]\n",
      "강감찬\n"
     ]
    }
   ],
   "source": [
    "# Q4. 아래의 2차원 배열의 표에서 가장 점수가 높은 학생을 구하시오.\n",
    "arr2 = [\n",
    "    [\"홍길동\", 80],\n",
    "    [\"류관순\", 76],\n",
    "    [\"강감찬\", 99],\n",
    "    [\"이성계\", 87],\n",
    "    [\"이황\", 68]\n",
    "]\n",
    "arr2\n",
    "비교 = arr2[0]\n",
    "print(비교)\n",
    "for i in range(1,len(arr2)):\n",
    "    # print(i, arr2[i])\n",
    "    if 비교[1] < arr2[i][1]:  # 뒤쪽이 크면 참\n",
    "        비교 = arr2[i]\n",
    "\n",
    "print(비교[0])"
   ]
  },
  {
   "cell_type": "code",
   "execution_count": 16,
   "metadata": {},
   "outputs": [
    {
     "name": "stdout",
     "output_type": "stream",
     "text": [
      "[42, 55, 63, 68, 76, 80, 83, 87, 99, 100]\n"
     ]
    }
   ],
   "source": [
    "# Q5. 아래의 1차원 배열를 이용하여 버블 방식으로 정렬하시오.\n",
    "arr3 = [80,76,63,83,99,87,100,42,68,55]\n",
    "for i in range(len(arr3)): # 전체 회전 0, 1, 2, ... 9\n",
    "    for j in range(len(arr3) - 1 - i):\n",
    "        if arr3[j] > arr3[j + 1]: \n",
    "            잠시담아둘게요 = arr3[j]\n",
    "            arr3[j] = arr3[j + 1]\n",
    "            arr3[j + 1] = 잠시담아둘게요\n",
    "# arr3.sort(reverse=True)\n",
    "print(arr3)"
   ]
  },
  {
   "cell_type": "code",
   "execution_count": null,
   "metadata": {},
   "outputs": [],
   "source": [
    "# Q6. 옆사람과 서로 다른 문제를 만들고 풀어 보기 (시간: 11:47 ~ 12:00 각자 문제 만들고 12:01 ~ 13:00 풀고 13:01 코드 리뷰)"
   ]
  }
 ],
 "metadata": {
  "kernelspec": {
   "display_name": "Python 3",
   "language": "python",
   "name": "python3"
  },
  "language_info": {
   "codemirror_mode": {
    "name": "ipython",
    "version": 3
   },
   "file_extension": ".py",
   "mimetype": "text/x-python",
   "name": "python",
   "nbconvert_exporter": "python",
   "pygments_lexer": "ipython3",
   "version": "3.11.9"
  }
 },
 "nbformat": 4,
 "nbformat_minor": 2
}
