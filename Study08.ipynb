{
 "cells": [
  {
   "cell_type": "code",
   "execution_count": 3,
   "metadata": {},
   "outputs": [
    {
     "name": "stdout",
     "output_type": "stream",
     "text": [
      "753 10 75.3\n"
     ]
    }
   ],
   "source": [
    "# Q3. 아래의 1차원 배열의 값의 평균값을 구하시오.\n",
    "arr1 = [80,76,63,83,99,87,100,42,68,55]\n",
    "arr1\n",
    "# 전체의 값을 더하고 전체의 갯를 나누면 평균값\n",
    "전체합 = sum(arr1)\n",
    "전체갯수 = len(arr1)\n",
    "print(전체합, 전체갯수, 전체합 / 전체갯수)"
   ]
  },
  {
   "cell_type": "code",
   "execution_count": 4,
   "metadata": {},
   "outputs": [
    {
     "data": {
      "text/plain": [
       "75.3"
      ]
     },
     "execution_count": 4,
     "metadata": {},
     "output_type": "execute_result"
    }
   ],
   "source": [
    "def 평균값(list):\n",
    "    return sum(list) / len(list)\n",
    "\n",
    "평균값(arr1)"
   ]
  },
  {
   "cell_type": "code",
   "execution_count": null,
   "metadata": {},
   "outputs": [
    {
     "name": "stdout",
     "output_type": "stream",
     "text": [
      "['홍길동', 80]\n",
      "강감찬\n"
     ]
    }
   ],
   "source": [
    "# Q4. 아래의 2차원 배열의 표에서 가장 점수가 높은 학생을 구하시오.\n",
    "arr2 = [\n",
    "    [\"홍길동\", 80],\n",
    "    [\"류관순\", 76],\n",
    "    [\"강감찬\", 99],\n",
    "    [\"이성계\", 87],\n",
    "    [\"이황\", 68]\n",
    "]\n",
    "arr2\n",
    "비교 = arr2[0]\n",
    "print(비교)\n",
    "for i in range(1,len(arr2)):\n",
    "    # print(i, arr2[i])\n",
    "    if 비교[1] < arr2[i][1]:  # 뒤쪽이 크면 참\n",
    "        비교 = arr2[i]\n",
    "\n",
    "print(비교[0])"
   ]
  },
  {
   "cell_type": "code",
   "execution_count": 16,
   "metadata": {},
   "outputs": [
    {
     "name": "stdout",
     "output_type": "stream",
     "text": [
      "[42, 55, 63, 68, 76, 80, 83, 87, 99, 100]\n"
     ]
    }
   ],
   "source": [
    "# Q5. 아래의 1차원 배열를 이용하여 버블 방식으로 정렬하시오.\n",
    "arr3 = [80,76,63,83,99,87,100,42,68,55]\n",
    "for i in range(len(arr3)): # 전체 회전 0, 1, 2, ... 9\n",
    "    for j in range(len(arr3) - 1 - i):\n",
    "        if arr3[j] > arr3[j + 1]: \n",
    "            잠시담아둘게요 = arr3[j]\n",
    "            arr3[j] = arr3[j + 1]\n",
    "            arr3[j + 1] = 잠시담아둘게요\n",
    "# arr3.sort(reverse=True)\n",
    "print(arr3)"
   ]
  },
  {
   "cell_type": "code",
   "execution_count": null,
   "metadata": {},
   "outputs": [],
   "source": [
    "# Q6. 옆사람과 서로 다른 문제를 만들고 풀어 보기 (시간: 11:50 ~ 12:00 각자 문제 만들고 12:00 ~ 13:20 풀기)"
   ]
  },
  {
   "cell_type": "code",
   "execution_count": null,
   "metadata": {},
   "outputs": [],
   "source": [
    "# 1. 아래의 2차원 배열의 표에서 평균 값을 구한 후 평균 값 이상인 학생만 구하시오.\n",
    "arr = [\n",
    "    [\"홍길동\", 80],\n",
    "    [\"류관순\", 76],\n",
    "    [\"강감찬\", 99],\n",
    "    [\"이성계\", 87],\n",
    "    [\"이황\", 68]\n",
    "]"
   ]
  },
  {
   "cell_type": "code",
   "execution_count": null,
   "metadata": {},
   "outputs": [],
   "source": [
    "# 2. myString을 myArray리스트에 각각 잘라서 넣으시오\n",
    "myString = \"감자칩/새우깡/도리토스/건전지/양말\""
   ]
  },
  {
   "cell_type": "code",
   "execution_count": null,
   "metadata": {},
   "outputs": [],
   "source": [
    "# 3. 다음 소스 코드를 완성하여 리스트 a에 들어있는 문자열 중에서 길이가 7인 것들만 리스트 형태로 출력되게 만드세요(리스트 표현식 사용).\n",
    "a = ['alpha', 'bravo', 'charlie', 'delta', 'echo', 'foxtrot', 'golf', 'hotel', 'india']\n",
    "b = [                           ]\n",
    "print(b)"
   ]
  },
  {
   "cell_type": "code",
   "execution_count": null,
   "metadata": {},
   "outputs": [],
   "source": [
    "# 4. 아래 배열에서 홀수와 짝수를 따로 반환해 각 배열을 오름차순 정렬하여 출력한 뒤, 각 배열의 평균값을 구하시오.\n",
    "arr = [18,44,87,35,15,24,79,12,55,47,47,98,5]"
   ]
  },
  {
   "cell_type": "code",
   "execution_count": null,
   "metadata": {},
   "outputs": [],
   "source": [
    "# 5. 아래의 2차원 배열의 표에서 점수 평균을 구하시고, 가장 점수가 높은 학생과 가장 점수가 낮은 학생을 구하시오.\n",
    "arr = [\n",
    "    [\"A\", 79],\n",
    "    [\"B\", 93],\n",
    "    [\"C\", 75],\n",
    "    [\"D\", 89],\n",
    "    [\"E\", 81],\n",
    "]"
   ]
  },
  {
   "cell_type": "code",
   "execution_count": null,
   "metadata": {},
   "outputs": [],
   "source": [
    "# 6. 아래 친구들의 성적 배열을 보고 고득점 순으로 배열을 정렬하세요.\n",
    "성적 = [[\"철수\",90], [\"영희\", 25], [\"민지\",67], [\"영철\",45], [\"민수\",80]]"
   ]
  },
  {
   "cell_type": "code",
   "execution_count": null,
   "metadata": {},
   "outputs": [],
   "source": [
    "# 7. 1~10 까지의 수를 홀수와 짝수로 구분 하시오 \n",
    "arr = [1,2,3,4,5,6,7,8,9,10]"
   ]
  },
  {
   "cell_type": "code",
   "execution_count": null,
   "metadata": {},
   "outputs": [],
   "source": [
    "# 8. 아래 배열을 사용하여 구구단을 출력하시오.\n",
    "arr = [1,4,3,2,7,6,8,5,9]"
   ]
  }
 ],
 "metadata": {
  "kernelspec": {
   "display_name": "Python 3",
   "language": "python",
   "name": "python3"
  },
  "language_info": {
   "codemirror_mode": {
    "name": "ipython",
    "version": 3
   },
   "file_extension": ".py",
   "mimetype": "text/x-python",
   "name": "python",
   "nbconvert_exporter": "python",
   "pygments_lexer": "ipython3",
   "version": "3.11.9"
  }
 },
 "nbformat": 4,
 "nbformat_minor": 2
}
