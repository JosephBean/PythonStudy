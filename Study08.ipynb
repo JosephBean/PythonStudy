{
 "cells": [
  {
   "cell_type": "code",
   "execution_count": 3,
   "metadata": {},
   "outputs": [
    {
     "name": "stdout",
     "output_type": "stream",
     "text": [
      "753 10 75.3\n"
     ]
    }
   ],
   "source": [
    "# Q3. 아래의 1차원 배열의 값의 평균값을 구하시오.\n",
    "arr1 = [80,76,63,83,99,87,100,42,68,55]\n",
    "arr1\n",
    "# 전체의 값을 더하고 전체의 갯를 나누면 평균값\n",
    "전체합 = sum(arr1)\n",
    "전체갯수 = len(arr1)\n",
    "print(전체합, 전체갯수, 전체합 / 전체갯수)"
   ]
  },
  {
   "cell_type": "code",
   "execution_count": 4,
   "metadata": {},
   "outputs": [
    {
     "data": {
      "text/plain": [
       "75.3"
      ]
     },
     "execution_count": 4,
     "metadata": {},
     "output_type": "execute_result"
    }
   ],
   "source": [
    "def 평균값(list):\n",
    "    return sum(list) / len(list)\n",
    "\n",
    "평균값(arr1)"
   ]
  },
  {
   "cell_type": "code",
   "execution_count": null,
   "metadata": {},
   "outputs": [
    {
     "name": "stdout",
     "output_type": "stream",
     "text": [
      "['홍길동', 80]\n",
      "강감찬\n"
     ]
    }
   ],
   "source": [
    "# Q4. 아래의 2차원 배열의 표에서 가장 점수가 높은 학생을 구하시오.\n",
    "arr2 = [\n",
    "    [\"홍길동\", 80],\n",
    "    [\"류관순\", 76],\n",
    "    [\"강감찬\", 99],\n",
    "    [\"이성계\", 87],\n",
    "    [\"이황\", 68]\n",
    "]\n",
    "arr2\n",
    "비교 = arr2[0]\n",
    "print(비교)\n",
    "for i in range(1,len(arr2)):\n",
    "    # print(i, arr2[i])\n",
    "    if 비교[1] < arr2[i][1]:  # 뒤쪽이 크면 참\n",
    "        비교 = arr2[i]\n",
    "\n",
    "print(비교[0])"
   ]
  },
  {
   "cell_type": "code",
   "execution_count": 16,
   "metadata": {},
   "outputs": [
    {
     "name": "stdout",
     "output_type": "stream",
     "text": [
      "[42, 55, 63, 68, 76, 80, 83, 87, 99, 100]\n"
     ]
    }
   ],
   "source": [
    "# Q5. 아래의 1차원 배열를 이용하여 버블 방식으로 정렬하시오.\n",
    "arr3 = [80,76,63,83,99,87,100,42,68,55]\n",
    "for i in range(len(arr3)): # 전체 회전 0, 1, 2, ... 9\n",
    "    for j in range(len(arr3) - 1 - i):\n",
    "        if arr3[j] > arr3[j + 1]: \n",
    "            잠시담아둘게요 = arr3[j]\n",
    "            arr3[j] = arr3[j + 1]\n",
    "            arr3[j + 1] = 잠시담아둘게요\n",
    "# arr3.sort(reverse=True)\n",
    "print(arr3)"
   ]
  },
  {
   "cell_type": "code",
   "execution_count": null,
   "metadata": {},
   "outputs": [],
   "source": [
    "# Q6. 옆사람과 서로 다른 문제를 만들고 풀어 보기 (시간: 11:50 ~ 12:00 각자 문제 만들고 12:00 ~ 13:20 풀기)"
   ]
  },
  {
   "cell_type": "code",
   "execution_count": null,
   "metadata": {},
   "outputs": [
    {
     "name": "stdout",
     "output_type": "stream",
     "text": [
      "[['강감찬', 99], ['이성계', 87]]\n"
     ]
    }
   ],
   "source": [
    "# 1. 아래의 2차원 배열의 표에서 평균 값을 구한 후 평균 값 이상인 학생만 구하시오.\n",
    "arr = [\n",
    "    [\"홍길동\", 80],\n",
    "    [\"류관순\", 76],\n",
    "    [\"강감찬\", 99],\n",
    "    [\"이성계\", 87],\n",
    "    [\"이황\", 68]\n",
    "]\n",
    "배열 = []\n",
    "합계 = 0\n",
    "for r in arr:\n",
    "    합계 += r[1]\n",
    "평균 = 합계 / len(arr) \n",
    "for r in arr:\n",
    "    if 평균 < r[1]:\n",
    "        배열.append(r)\n",
    "print(배열)"
   ]
  },
  {
   "cell_type": "code",
   "execution_count": 25,
   "metadata": {},
   "outputs": [
    {
     "data": {
      "text/plain": [
       "['감자칩', '새우깡', '도리토스', '건전지', '양말']"
      ]
     },
     "execution_count": 25,
     "metadata": {},
     "output_type": "execute_result"
    }
   ],
   "source": [
    "# 2. myString을 myArray리스트에 각각 잘라서 넣으시오\n",
    "myString = \"감자칩/새우깡/도리토스/건전지/양말\"\n",
    "arr = myString.split(\"/\")\n",
    "arr"
   ]
  },
  {
   "cell_type": "code",
   "execution_count": 26,
   "metadata": {},
   "outputs": [
    {
     "name": "stdout",
     "output_type": "stream",
     "text": [
      "['charlie', 'foxtrot']\n"
     ]
    }
   ],
   "source": [
    "# 3. 다음 소스 코드를 완성하여 리스트 a에 들어있는 문자열 중에서 길이가 7인 것들만 리스트 형태로 출력되게 만드세요(리스트 표현식 사용).\n",
    "a = ['alpha', 'bravo', 'charlie', 'delta', 'echo', 'foxtrot', 'golf', 'hotel', 'india']\n",
    "b = []\n",
    "for txt in a:\n",
    "    if len(txt) == 7:\n",
    "        b.append(txt)\n",
    "print(b)"
   ]
  },
  {
   "cell_type": "code",
   "execution_count": 31,
   "metadata": {},
   "outputs": [
    {
     "name": "stdout",
     "output_type": "stream",
     "text": [
      "[87, 35, 15, 79, 55, 47, 47, 5] [18, 44, 24, 12, 98]\n",
      "[5, 15, 35, 47, 47, 55, 79, 87] [12, 18, 24, 44, 98]\n",
      "46.25 39.2\n"
     ]
    }
   ],
   "source": [
    "# 4. 아래 배열에서 홀수와 짝수를 따로 반환해 각 배열을 오름차순 정렬하여 출력한 뒤, 각 배열의 평균값을 구하시오.\n",
    "arr = [18,44,87,35,15,24,79,12,55,47,47,98,5]\n",
    "홀수 = []\n",
    "짝수 = []\n",
    "for d in arr:\n",
    "    if d % 2 == 0:\n",
    "        짝수.append(d)\n",
    "    else:\n",
    "        홀수.append(d)\n",
    "print(홀수, 짝수)\n",
    "\n",
    "def 정렬(list):\n",
    "    for i in range(len(list)):\n",
    "        for j in range(len(list) -1 -i):\n",
    "            if list[j] > list[j + 1]:\n",
    "                우리잠시쉬어갈까 = list[j]\n",
    "                list[j] = list[j + 1]\n",
    "                list[j + 1] = 우리잠시쉬어갈까\n",
    "    return list\n",
    "\n",
    "def 평균(list):\n",
    "    return sum(list) / len(list)\n",
    "\n",
    "print(정렬(홀수), 정렬(짝수))\n",
    "print(평균(정렬(홀수)), 평균(정렬(짝수)))"
   ]
  },
  {
   "cell_type": "code",
   "execution_count": 47,
   "metadata": {},
   "outputs": [
    {
     "name": "stdout",
     "output_type": "stream",
     "text": [
      "83.4\n",
      "[['B', 93], ['D', 89]] [['A', 79], ['C', 75], ['E', 81]]\n"
     ]
    }
   ],
   "source": [
    "# 5. 아래의 2차원 배열의 표에서 점수 평균을 구하시고, 가장 점수가 높은 학생과 가장 점수가 낮은 학생을 구하시오.\n",
    "arr = [\n",
    "    [\"A\", 79],\n",
    "    [\"B\", 93],\n",
    "    [\"C\", 75],\n",
    "    [\"D\", 89],\n",
    "    [\"E\", 81],\n",
    "]\n",
    "합계 = 0\n",
    "for r in arr:\n",
    "    합계 += r[1]\n",
    "평균값 = 합계 / len(arr)\n",
    "print(평균값)\n",
    "높은아이 = []\n",
    "낮은아이 = []\n",
    "for r in arr:\n",
    "    if 평균값 < r[1]:\n",
    "        높은아이.append(r)\n",
    "    if 평균값 > r[1]:\n",
    "        낮은아이.append(r)\n",
    "print(높은아이, 낮은아이)"
   ]
  },
  {
   "cell_type": "code",
   "execution_count": 48,
   "metadata": {},
   "outputs": [
    {
     "name": "stdout",
     "output_type": "stream",
     "text": [
      "['B', 93] ['C', 75]\n"
     ]
    }
   ],
   "source": [
    "def 정렬(list):\n",
    "    for i in range(len(list)):\n",
    "        for j in range(len(list) -1 -i):\n",
    "            if list[j][1] > list[j + 1][1]:\n",
    "                나도쉬었다갈게 = list[j]\n",
    "                list[j] = list[j+1]\n",
    "                list[j+1] = 나도쉬었다갈게\n",
    "    return list\n",
    "print(정렬(높은아이)[len(높은아이)-1], 정렬(낮은아이)[0])"
   ]
  },
  {
   "cell_type": "code",
   "execution_count": 50,
   "metadata": {},
   "outputs": [
    {
     "name": "stdout",
     "output_type": "stream",
     "text": [
      "[['철수', 90], ['민수', 80], ['민지', 67], ['영철', 45], ['영희', 25]]\n"
     ]
    }
   ],
   "source": [
    "# 6. 아래 친구들의 성적 배열을 보고 고득점 순으로 배열을 정렬하세요.\n",
    "성적 = [[\"철수\",90], [\"영희\", 25], [\"민지\",67], [\"영철\",45], [\"민수\",80]]\n",
    "for i in range(len(성적)):\n",
    "    for j in range(len(성적) -1 -i):\n",
    "        if 성적[j][1] < 성적[j + 1][1]:\n",
    "            조또마떼 = 성적[j + 1]\n",
    "            성적[j + 1] = 성적[j]\n",
    "            성적[j] = 조또마떼\n",
    "print(성적)"
   ]
  },
  {
   "cell_type": "code",
   "execution_count": 51,
   "metadata": {},
   "outputs": [
    {
     "name": "stdout",
     "output_type": "stream",
     "text": [
      "[1, 3, 5, 7, 9] [2, 4, 6, 8, 10]\n"
     ]
    }
   ],
   "source": [
    "# 7. 1~10 까지의 수를 홀수와 짝수로 구분 하시오 \n",
    "arr = [1,2,3,4,5,6,7,8,9,10]\n",
    "홀수 = []\n",
    "짝수 = []\n",
    "for d in arr:\n",
    "    if d % 2 == 0:\n",
    "        짝수.append(d)\n",
    "    else:\n",
    "        홀수.append(d)\n",
    "print(홀수, 짝수)"
   ]
  },
  {
   "cell_type": "code",
   "execution_count": 52,
   "metadata": {},
   "outputs": [
    {
     "name": "stdout",
     "output_type": "stream",
     "text": [
      "1 * 1 = 1\n",
      "1 * 2 = 2\n",
      "1 * 3 = 3\n",
      "1 * 4 = 4\n",
      "1 * 5 = 5\n",
      "1 * 6 = 6\n",
      "1 * 7 = 7\n",
      "1 * 8 = 8\n",
      "4 * 1 = 4\n",
      "4 * 2 = 8\n",
      "4 * 3 = 12\n",
      "4 * 4 = 16\n",
      "4 * 5 = 20\n",
      "4 * 6 = 24\n",
      "4 * 7 = 28\n",
      "4 * 8 = 32\n",
      "3 * 1 = 3\n",
      "3 * 2 = 6\n",
      "3 * 3 = 9\n",
      "3 * 4 = 12\n",
      "3 * 5 = 15\n",
      "3 * 6 = 18\n",
      "3 * 7 = 21\n",
      "3 * 8 = 24\n",
      "2 * 1 = 2\n",
      "2 * 2 = 4\n",
      "2 * 3 = 6\n",
      "2 * 4 = 8\n",
      "2 * 5 = 10\n",
      "2 * 6 = 12\n",
      "2 * 7 = 14\n",
      "2 * 8 = 16\n",
      "7 * 1 = 7\n",
      "7 * 2 = 14\n",
      "7 * 3 = 21\n",
      "7 * 4 = 28\n",
      "7 * 5 = 35\n",
      "7 * 6 = 42\n",
      "7 * 7 = 49\n",
      "7 * 8 = 56\n",
      "6 * 1 = 6\n",
      "6 * 2 = 12\n",
      "6 * 3 = 18\n",
      "6 * 4 = 24\n",
      "6 * 5 = 30\n",
      "6 * 6 = 36\n",
      "6 * 7 = 42\n",
      "6 * 8 = 48\n",
      "8 * 1 = 8\n",
      "8 * 2 = 16\n",
      "8 * 3 = 24\n",
      "8 * 4 = 32\n",
      "8 * 5 = 40\n",
      "8 * 6 = 48\n",
      "8 * 7 = 56\n",
      "8 * 8 = 64\n",
      "5 * 1 = 5\n",
      "5 * 2 = 10\n",
      "5 * 3 = 15\n",
      "5 * 4 = 20\n",
      "5 * 5 = 25\n",
      "5 * 6 = 30\n",
      "5 * 7 = 35\n",
      "5 * 8 = 40\n",
      "9 * 1 = 9\n",
      "9 * 2 = 18\n",
      "9 * 3 = 27\n",
      "9 * 4 = 36\n",
      "9 * 5 = 45\n",
      "9 * 6 = 54\n",
      "9 * 7 = 63\n",
      "9 * 8 = 72\n"
     ]
    }
   ],
   "source": [
    "# 8. 아래 배열을 사용하여 구구단을 출력하시오.\n",
    "arr = [1,4,3,2,7,6,8,5,9]\n",
    "for 단 in arr:\n",
    "    for i in range(1,9):\n",
    "        print(f\"{단} * {i} = {단 * i}\")"
   ]
  }
 ],
 "metadata": {
  "kernelspec": {
   "display_name": "Python 3",
   "language": "python",
   "name": "python3"
  },
  "language_info": {
   "codemirror_mode": {
    "name": "ipython",
    "version": 3
   },
   "file_extension": ".py",
   "mimetype": "text/x-python",
   "name": "python",
   "nbconvert_exporter": "python",
   "pygments_lexer": "ipython3",
   "version": "3.11.9"
  }
 },
 "nbformat": 4,
 "nbformat_minor": 2
}
