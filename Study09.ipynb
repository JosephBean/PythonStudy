{
 "cells": [
  {
   "cell_type": "markdown",
   "metadata": {},
   "source": [
    "## dictionary 자료형\n",
    "특징\n",
    "+ key와 value로 한쌍으로 이루어졌다.\n",
    "+ associative array 또는 hash 라고도 한다."
   ]
  },
  {
   "cell_type": "code",
   "execution_count": 1,
   "metadata": {},
   "outputs": [
    {
     "data": {
      "text/plain": [
       "{'key': 'value'}"
      ]
     },
     "execution_count": 1,
     "metadata": {},
     "output_type": "execute_result"
    }
   ],
   "source": [
    "a = {'key': 'value'}\n",
    "a"
   ]
  },
  {
   "cell_type": "code",
   "execution_count": 2,
   "metadata": {},
   "outputs": [
    {
     "data": {
      "text/plain": [
       "'value'"
      ]
     },
     "execution_count": 2,
     "metadata": {},
     "output_type": "execute_result"
    }
   ],
   "source": [
    "a['key']"
   ]
  },
  {
   "cell_type": "code",
   "execution_count": 3,
   "metadata": {},
   "outputs": [
    {
     "data": {
      "text/plain": [
       "'value'"
      ]
     },
     "execution_count": 3,
     "metadata": {},
     "output_type": "execute_result"
    }
   ],
   "source": [
    "a.get('key')"
   ]
  },
  {
   "cell_type": "code",
   "execution_count": 6,
   "metadata": {},
   "outputs": [
    {
     "data": {
      "text/plain": [
       "100"
      ]
     },
     "execution_count": 6,
     "metadata": {},
     "output_type": "execute_result"
    }
   ],
   "source": [
    "a['key'] = 100\n",
    "a.get('key')"
   ]
  },
  {
   "cell_type": "code",
   "execution_count": 10,
   "metadata": {},
   "outputs": [
    {
     "data": {
      "text/plain": [
       "{'key': 2}"
      ]
     },
     "execution_count": 10,
     "metadata": {},
     "output_type": "execute_result"
    }
   ],
   "source": [
    "a = {'key': 1, 'key': 2}\n",
    "a"
   ]
  },
  {
   "cell_type": "code",
   "execution_count": 9,
   "metadata": {},
   "outputs": [
    {
     "data": {
      "text/plain": [
       "{}"
      ]
     },
     "execution_count": 9,
     "metadata": {},
     "output_type": "execute_result"
    }
   ],
   "source": [
    "del a['key']\n",
    "a"
   ]
  },
  {
   "cell_type": "code",
   "execution_count": 11,
   "metadata": {},
   "outputs": [
    {
     "data": {
      "text/plain": [
       "{}"
      ]
     },
     "execution_count": 11,
     "metadata": {},
     "output_type": "execute_result"
    }
   ],
   "source": [
    "a.clear()\n",
    "a"
   ]
  },
  {
   "cell_type": "code",
   "execution_count": 17,
   "metadata": {},
   "outputs": [
    {
     "data": {
      "text/plain": [
       "{'번호': 1, '이름': '홍길동', '나이': 19, '직업': '도둑'}"
      ]
     },
     "execution_count": 17,
     "metadata": {},
     "output_type": "execute_result"
    }
   ],
   "source": [
    "a = {\n",
    "    \"번호\": 1,\n",
    "    \"이름\": \"홍길동\",\n",
    "    \"나이\": 19,\n",
    "    \"직업\": \"도둑\"\n",
    "}\n",
    "a"
   ]
  },
  {
   "cell_type": "code",
   "execution_count": 18,
   "metadata": {},
   "outputs": [
    {
     "data": {
      "text/plain": [
       "{'번호': 1, '이름': '홍길동', '나이': 19, '직업': ['도둑', '의적']}"
      ]
     },
     "execution_count": 18,
     "metadata": {},
     "output_type": "execute_result"
    }
   ],
   "source": [
    "a[\"직업\"] = [\"도둑\",\"의적\"]\n",
    "a"
   ]
  },
  {
   "cell_type": "code",
   "execution_count": 15,
   "metadata": {},
   "outputs": [
    {
     "data": {
      "text/plain": [
       "list"
      ]
     },
     "execution_count": 15,
     "metadata": {},
     "output_type": "execute_result"
    }
   ],
   "source": [
    "type(a['직업'])"
   ]
  },
  {
   "cell_type": "code",
   "execution_count": 16,
   "metadata": {},
   "outputs": [
    {
     "data": {
      "text/plain": [
       "{'번호': 1, '이름': '홍길동', '나이': 19, '직업': ['나쁜놈', '의적']}"
      ]
     },
     "execution_count": 16,
     "metadata": {},
     "output_type": "execute_result"
    }
   ],
   "source": [
    "a['직업'][0] = \"나쁜놈\"\n",
    "a"
   ]
  },
  {
   "cell_type": "code",
   "execution_count": 20,
   "metadata": {},
   "outputs": [
    {
     "data": {
      "text/plain": [
       "{'번호': 1, '이름': '홍길동', '나이': 19, '직업': ['나쁜놈', '의적']}"
      ]
     },
     "execution_count": 20,
     "metadata": {},
     "output_type": "execute_result"
    }
   ],
   "source": [
    "b = a['직업']\n",
    "b[0] = \"나쁜놈\"\n",
    "a['직업'] = b\n",
    "a"
   ]
  },
  {
   "cell_type": "markdown",
   "metadata": {},
   "source": [
    "## Q1. 리스트에 학생 정보가 들어 있는 자료형을 선택하여 추가하려고 한다.\n",
    "## 예 {'no': 1, 'name': '홍길동', ...} keys = ['no', 'name', 'age']\n",
    "## 3명의 학생 정보를 담으려면 어떻게 하여야 할까요?"
   ]
  },
  {
   "cell_type": "code",
   "execution_count": 3,
   "metadata": {},
   "outputs": [
    {
     "data": {
      "text/plain": [
       "[{'no': 1, 'name': '홍길동', 'age': 19},\n",
       " {'no': 2, 'name': '류관순', 'age': 17},\n",
       " {'no': 3, 'name': '이순신', 'age': 54}]"
      ]
     },
     "execution_count": 3,
     "metadata": {},
     "output_type": "execute_result"
    }
   ],
   "source": [
    "a = []\n",
    "a.append({'no':1, 'name': '홍길동', 'age': 19})\n",
    "a.append({'no':2, 'name': '류관순', 'age': 17})\n",
    "a.append({'no':3, 'name': '이순신', 'age': 54})\n",
    "a"
   ]
  },
  {
   "cell_type": "code",
   "execution_count": 6,
   "metadata": {},
   "outputs": [
    {
     "name": "stdout",
     "output_type": "stream",
     "text": [
      "거짓\n"
     ]
    }
   ],
   "source": [
    "if {}:\n",
    "    print(\"참\")\n",
    "else:\n",
    "    print(\"거짓\")"
   ]
  },
  {
   "cell_type": "code",
   "execution_count": 8,
   "metadata": {},
   "outputs": [
    {
     "data": {
      "text/plain": [
       "True"
      ]
     },
     "execution_count": 8,
     "metadata": {},
     "output_type": "execute_result"
    }
   ],
   "source": [
    "bool('1')"
   ]
  },
  {
   "cell_type": "code",
   "execution_count": 10,
   "metadata": {},
   "outputs": [
    {
     "name": "stdout",
     "output_type": "stream",
     "text": [
      "참\n"
     ]
    }
   ],
   "source": [
    "if bool('1'):\n",
    "    print(\"참\")\n",
    "else:\n",
    "    print(\"거짓\")"
   ]
  },
  {
   "cell_type": "code",
   "execution_count": 12,
   "metadata": {},
   "outputs": [
    {
     "name": "stdout",
     "output_type": "stream",
     "text": [
      "<class 'tuple'> (1, 2, 3, 4)\n",
      "<class 'list'> [1, 2, 3, 4]\n"
     ]
    }
   ],
   "source": [
    "a = [1,2,3,4]\n",
    "b = tuple(a)\n",
    "print(type(b), b)\n",
    "c = list(b)\n",
    "print(type(c), c)"
   ]
  },
  {
   "cell_type": "code",
   "execution_count": 16,
   "metadata": {},
   "outputs": [
    {
     "name": "stdout",
     "output_type": "stream",
     "text": [
      "<class 'list'> <class 'set'>\n"
     ]
    }
   ],
   "source": [
    "d = set(a)\n",
    "print(type(a),type(d))"
   ]
  },
  {
   "cell_type": "code",
   "execution_count": 17,
   "metadata": {},
   "outputs": [
    {
     "data": {
      "text/plain": [
       "{1, 2, 3, 4, 5}"
      ]
     },
     "execution_count": 17,
     "metadata": {},
     "output_type": "execute_result"
    }
   ],
   "source": [
    "s1 = set([1,2,3])\n",
    "s1.update([3,4,5])\n",
    "s1"
   ]
  },
  {
   "cell_type": "code",
   "execution_count": 23,
   "metadata": {},
   "outputs": [],
   "source": [
    "arr = [1,2,0,3,5,4,7]\n",
    "# 위의 배열을 사용하여 가장 긴 수열의 길이를 구하시오."
   ]
  },
  {
   "cell_type": "code",
   "execution_count": 21,
   "metadata": {},
   "outputs": [
    {
     "data": {
      "text/plain": [
       "[0, 1, 1, 2, 3, 5, 8, 13, 21, 34, 55]"
      ]
     },
     "execution_count": 21,
     "metadata": {},
     "output_type": "execute_result"
    }
   ],
   "source": [
    "# [0, 1, 1, 2, 3, 5, 8, 13, 21, 34, 55, 89, 144, ...]\n",
    "# 0 + 1 = 1\n",
    "# 1 + 1 = 2\n",
    "# 1 + 2 = 3\n",
    "a = [0, 1]\n",
    "for i in range(1, 10):\n",
    "    a.append( a[i-1] + a[i] )\n",
    "a"
   ]
  },
  {
   "cell_type": "code",
   "execution_count": null,
   "metadata": {},
   "outputs": [
    {
     "name": "stdout",
     "output_type": "stream",
     "text": [
      "1 2 2\n",
      "2 3 3\n",
      "3\n"
     ]
    }
   ],
   "source": [
    "arr = [1,2,0,3,5,4,7]\n",
    "최대길이 = 1\n",
    "연속 = 1\n",
    "for i in range(1, len(arr)):\n",
    "    #  1             2\n",
    "    if arr[i - 1]  < arr[i]: # 5\n",
    "        연속 += 1\n",
    "    else: # 2\n",
    "        최대길이 = max(최대길이, 연속)\n",
    "        연속 = 1\n",
    "최대길이 = max(최대길이, 연속)\n",
    "print(최대길이)"
   ]
  },
  {
   "cell_type": "markdown",
   "metadata": {},
   "source": [
    "주어진 코드는 배열에서 가장 긴 연속된 증가하는 수열의 길이를 구하는 코드입니다. 그러나 출력 부분에서 `print(최대길이, 연속, max(최대길이, 연속))`는 최종 결과를 잘못 출력할 수 있습니다. 출력 부분을 수정하면, 코드가 의도한 대로 작동할 것입니다.\n",
    "\n",
    "### 코드 분석:\n",
    "\n",
    "1. `arr` 배열에서 각 요소를 순차적으로 검사합니다.\n",
    "2. 연속된 증가하는 수열의 길이를 `연속` 변수로 추적하고, 만약 현재 요소가 이전 요소보다 커지면 `연속`을 증가시킵니다.\n",
    "3. 증가하는 수열이 끝나면, `최대길이`를 갱신하고 `연속`을 1로 리셋합니다.\n",
    "4. 마지막에는 가장 긴 연속 수열의 길이를 출력합니다.\n",
    "\n",
    "### 문제점:\n",
    "- `print` 문에서 `최대길이, 연속, max(최대길이, 연속)`을 출력하는 부분은 중간값을 출력하지만, 가장 긴 수열의 길이를 출력하려면 최종적인 `최대길이`만 출력하면 됩니다.\n",
    "  \n",
    "### 수정된 코드:\n",
    "\n",
    "```python\n",
    "arr = [1, 2, 0, 3, 5, 4, 7]\n",
    "최대길이 = 1\n",
    "연속 = 1\n",
    "for i in range(1, len(arr)):\n",
    "    if arr[i - 1] < arr[i]:\n",
    "        연속 += 1\n",
    "    else:\n",
    "        최대길이 = max(최대길이, 연속)\n",
    "        연속 = 1\n",
    "\n",
    "# 최종적으로 가장 긴 연속 수열의 길이를 출력\n",
    "최대길이 = max(최대길이, 연속)\n",
    "print(최대길이)\n",
    "```\n",
    "\n",
    "### 설명:\n",
    "- `arr` 배열을 순차적으로 처리하면서 증가하는 수열을 추적합니다.\n",
    "- `연속`이 1로 초기화되어 있고, 수열이 증가할 때마다 `연속`을 증가시킵니다.\n",
    "- 수열이 끝나면 `최대길이`를 갱신하고, 연속된 수열이 더 이상 증가하지 않으면 `연속`을 1로 초기화합니다.\n",
    "- 반복문이 끝난 후 마지막 값도 비교하여 `최대길이`를 구합니다.\n",
    "\n",
    "### 실행 결과:\n",
    "위 코드를 실행하면 `3`이 출력됩니다. 이는 가장 긴 증가하는 연속 수열 `[3, 5, 7]`의 길이입니다."
   ]
  },
  {
   "cell_type": "markdown",
   "metadata": {},
   "source": [
    "주어진 배열 `arr = [1, 2, 0, 3, 5, 4, 7]`에서 **연속적으로 증가하는 수열**을 찾아보겠습니다.\n",
    "\n",
    "1. **첫 번째 수열**:\n",
    "   - `[1, 2]`: 1 < 2로 증가하는 수열입니다.\n",
    "   \n",
    "2. **두 번째 수열**:\n",
    "   - `[0, 3, 5]`: 0 < 3 < 5로 증가하는 수열입니다.\n",
    "   \n",
    "3. **세 번째 수열**:\n",
    "   - `[4, 7]`: 4 < 7로 증가하는 수열입니다.\n",
    "\n",
    "따라서, 배열에서 연속적으로 증가하는 수열들은 **다음과 같습니다**:\n",
    "\n",
    "- `[1, 2]`\n",
    "- `[0, 3, 5]`\n",
    "- `[4, 7]`\n",
    "\n",
    "이 중에서 **가장 긴 연속 증가 수열**은 `[0, 3, 5]`이고, 그 길이는 **3**입니다."
   ]
  }
 ],
 "metadata": {
  "kernelspec": {
   "display_name": "Python 3",
   "language": "python",
   "name": "python3"
  },
  "language_info": {
   "codemirror_mode": {
    "name": "ipython",
    "version": 3
   },
   "file_extension": ".py",
   "mimetype": "text/x-python",
   "name": "python",
   "nbconvert_exporter": "python",
   "pygments_lexer": "ipython3",
   "version": "3.11.9"
  }
 },
 "nbformat": 4,
 "nbformat_minor": 2
}
